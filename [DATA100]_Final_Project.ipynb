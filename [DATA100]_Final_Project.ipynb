{
  "cells": [
    {
      "cell_type": "markdown",
      "metadata": {
        "id": "gu3ZQbvXeKJB"
      },
      "source": [
        "# Geospatial Analysis of Fatalities in the Israeli-Palestinian Conflict"
      ]
    },
    {
      "cell_type": "markdown",
      "metadata": {
        "id": "7I3fs2ilHryK"
      },
      "source": [
        "> **Authors**\n",
        "\n",
        "1. Abrogueña, Alfhea\n",
        "2. Elloso, Jilliane\n",
        "3. Guerra, Angelo\n",
        "4. Intervalo, Raymond\n",
        "5. Santos, Jerrick"
      ]
    },
    {
      "cell_type": "markdown",
      "metadata": {
        "id": "JnapM99rIFuk"
      },
      "source": [
        "## Introduction"
      ]
    },
    {
      "cell_type": "markdown",
      "metadata": {
        "id": "A8SY86MsLRzS"
      },
      "source": [
        "The Israeli-Palestinian conflict has been marked by decades of complex and often tragic events, resulting in numerous fatalities across various regions. Understanding the spatial distribution of these fatalities is crucial for comprehending the impact and intensity of the conflict over time. The primary aim of this analysis is to discern which cities or locations within Palestine have experienced the highest occurrences of fatalities throughout the years within the context of this conflict.\n"
      ]
    },
    {
      "cell_type": "markdown",
      "metadata": {
        "id": "LRHuBbjYLDN4"
      },
      "source": [
        "### Problem Statement\n",
        "\n",
        "The central focus of this data science endeavor revolves around unraveling the geographical facets of fatalities within Palestine. By scrutinizing the dataset, **the objective is to identify and elucidate the cities or locations that have experienced the highest number of fatalities throughout the tumultuous history of the Israeli-Palestinian conflict**. This investigation aims to uncover patterns, trends, and potential hotspots where these tragic incidents have occurred, providing valuable insights into the spatial distribution of fatalities and the impact on affected regions.\n",
        "\n",
        "### Objectives\n",
        "\n",
        "1. Trend Analysis: Fatalities of Israelis and Palestines from 2002 to Present\n",
        "\n",
        "2. Population Analysis:\n",
        "    * `citizenship` and `killed_by`\n",
        "    * `ammunition` and `killed_by`\n",
        "    * `event_location_region` and `killed_by`\n",
        "    * `event_location_region` and `type_of_injury`\n",
        "    * `gender` and `event_location_region`\n",
        "    * `event_location_region` and `age`\n",
        "    * `event_location_region` and `citizenship`\n",
        "    * `event_location_region` and `ammunition`\n",
        "\n",
        "3. Geospatial Analysis: Total Fatalities within Israel"
      ]
    },
    {
      "cell_type": "markdown",
      "metadata": {
        "id": "35w1Kz3-nZyG"
      },
      "source": [
        "### Dataset Overview\n",
        "\n",
        "The dataset under investigation encompasses detailed information pertaining to fatalities within the Israeli-Palestinian conflict. It comprises a multitude of variables shedding light on the individuals involved, the specifics of each incident, and the crucial factors surrounding their unfortunate deaths. Variables such as the name of the individual, date of the event, age, citizenship, event location, date of death, gender, injuries sustained, and details about the identified perpetrators are among the comprehensive array of information available for analysis.\n",
        "\n",
        "\n",
        "Dataset Source Link : https://www.kaggle.com/datasets/willianoliveiragibin/fatalities-in-the-israeli-palestinian/data"
      ]
    },
    {
      "cell_type": "markdown",
      "metadata": {
        "id": "27hjSrn2eS8n"
      },
      "source": [
        "The variables in this data set are as follows:\n",
        "\n",
        "- `name` - Name of the individual\n",
        "- `date_of_event` - Date where the incident occured\n",
        "- `age` - Age of the individual\n",
        "- `citizenship` -The citzenship of the person in the incident\n",
        "- `event_location` - Location where the incident occured\n",
        "- `event_location_district` - District of the location where the incident occured\n",
        "- `event_location_region` - Region of the location where the incident occured\n",
        "event_location_\n",
        "- `date_of_death` - Date the person died in the indicent\n",
        "- `gender` - Gender of the person (Male/Female)\n",
        "- `took_part_in_the_hostilities` -\n",
        "Person that participated directly in hostilities when they carry out acts, which aim to support one party to the conflict by directly causing harm to another party, either directly inflicting death, injury or destruction\n",
        "- `place_of_residence` - Province where the person lived\n",
        "- `place_of_residence_district` - District where the person lived\n",
        "- `type_of_injury` - Description of the injury sustained by the individual that led to their death.\n",
        "- `ammunition` - Information regarding the type or nature of ammunition involved in the incident.\n",
        "- `killed_by` - Identified individual who killed the person\n",
        "- `notes` - Additional information detailing how the person died and the specifics of the incident, including the location of the body.\n",
        "\n",
        "\n",
        "\n",
        "\n",
        "\n",
        "\n"
      ]
    },
    {
      "cell_type": "markdown",
      "metadata": {
        "id": "79wMpJPYqxih"
      },
      "source": [
        "## List of Requirements\n",
        "Import **numpy**, **pandas**, **matplotlib** and **seaborn**."
      ]
    },
    {
      "cell_type": "code",
      "execution_count": null,
      "metadata": {
        "id": "LgIch-V1qxO7"
      },
      "outputs": [],
      "source": [
        "import numpy as np\n",
        "import pandas as pd\n",
        "import matplotlib.pyplot as plt\n",
        "import seaborn as sns\n",
        "from scipy.stats import chi2_contingency\n",
        "from scipy.stats import ttest_ind\n",
        "import folium"
      ]
    },
    {
      "cell_type": "markdown",
      "metadata": {
        "id": "ILrDL9lhrQX0"
      },
      "source": [
        "Reading csv file containing the dataset."
      ]
    },
    {
      "cell_type": "code",
      "execution_count": null,
      "metadata": {
        "id": "6A7o_8gedaVu"
      },
      "outputs": [],
      "source": [
        "war_fatalities_df = pd.read_csv(\"fatalities_isr_pse_conflict_2000_to_2023.csv\")"
      ]
    },
    {
      "cell_type": "markdown",
      "metadata": {
        "id": "eqryo1BWIa4a"
      },
      "source": [
        "# Exploratory Analysis"
      ]
    },
    {
      "cell_type": "markdown",
      "metadata": {
        "id": "pxwbpENZrTEe"
      },
      "source": [
        "Displaying general information about the dataset."
      ]
    },
    {
      "cell_type": "code",
      "execution_count": null,
      "metadata": {
        "colab": {
          "base_uri": "https://localhost:8080/"
        },
        "id": "3mEcfh5ArWZt",
        "outputId": "3819d2cd-77c2-4a27-d50d-6bfea77ba87e"
      },
      "outputs": [
        {
          "name": "stdout",
          "output_type": "stream",
          "text": [
            "<class 'pandas.core.frame.DataFrame'>\n",
            "RangeIndex: 11124 entries, 0 to 11123\n",
            "Data columns (total 16 columns):\n",
            " #   Column                        Non-Null Count  Dtype  \n",
            "---  ------                        --------------  -----  \n",
            " 0   name                          11124 non-null  object \n",
            " 1   date_of_event                 11124 non-null  object \n",
            " 2   age                           10995 non-null  float64\n",
            " 3   citizenship                   11124 non-null  object \n",
            " 4   event_location                11124 non-null  object \n",
            " 5   event_location_district       11124 non-null  object \n",
            " 6   event_location_region         11124 non-null  object \n",
            " 7   date_of_death                 11124 non-null  object \n",
            " 8   gender                        11104 non-null  object \n",
            " 9   took_part_in_the_hostilities  9694 non-null   object \n",
            " 10  place_of_residence            11056 non-null  object \n",
            " 11  place_of_residence_district   11056 non-null  object \n",
            " 12  type_of_injury                10833 non-null  object \n",
            " 13  ammunition                    5871 non-null   object \n",
            " 14  killed_by                     11124 non-null  object \n",
            " 15  notes                         10844 non-null  object \n",
            "dtypes: float64(1), object(15)\n",
            "memory usage: 1.4+ MB\n"
          ]
        }
      ],
      "source": [
        "war_fatalities_df.info()"
      ]
    },
    {
      "cell_type": "markdown",
      "metadata": {
        "id": "rabrOKs8upyG"
      },
      "source": [
        "Describing the shape of the dataset"
      ]
    },
    {
      "cell_type": "code",
      "execution_count": null,
      "metadata": {
        "colab": {
          "base_uri": "https://localhost:8080/"
        },
        "id": "3Hr2f3KFIUFZ",
        "outputId": "27a33e48-4747-4e6c-ce1f-50e853007a85"
      },
      "outputs": [
        {
          "data": {
            "text/plain": [
              "(11124, 16)"
            ]
          },
          "execution_count": 20,
          "metadata": {},
          "output_type": "execute_result"
        }
      ],
      "source": [
        "war_fatalities_df.shape"
      ]
    },
    {
      "cell_type": "code",
      "execution_count": null,
      "metadata": {
        "colab": {
          "base_uri": "https://localhost:8080/"
        },
        "id": "Ft7wMPlz8_yP",
        "outputId": "d66d5ab4-677b-40af-cfd5-d8698354d26b"
      },
      "outputs": [
        {
          "name": "stdout",
          "output_type": "stream",
          "text": [
            "                age\n",
            "count  10995.000000\n",
            "mean      26.745703\n",
            "std       13.780548\n",
            "min        1.000000\n",
            "25%       19.000000\n",
            "50%       23.000000\n",
            "75%       31.000000\n",
            "max      112.000000\n"
          ]
        }
      ],
      "source": [
        "print(war_fatalities_df.describe())"
      ]
    },
    {
      "cell_type": "markdown",
      "metadata": {
        "id": "EGUXVThqrVlY"
      },
      "source": [
        "# Data Cleaning\n",
        "\n",
        "For this dataset, we want to make sure that the variables we will be using have no Nan values and are integers for easier data representation and analysis."
      ]
    },
    {
      "cell_type": "markdown",
      "metadata": {
        "id": "P7ZfUDyht-K8"
      },
      "source": [
        "We will now make a copy of the entire dataset and clean from there."
      ]
    },
    {
      "cell_type": "code",
      "execution_count": null,
      "metadata": {
        "id": "Sdvr1TAUt-tb"
      },
      "outputs": [],
      "source": [
        "war_fatalities_df_clean = war_fatalities_df.copy()"
      ]
    },
    {
      "cell_type": "markdown",
      "metadata": {
        "id": "IDLaU40Lr0Kb"
      },
      "source": [
        "First, we will check if there are `Nan`/`Null` values in the dataset."
      ]
    },
    {
      "cell_type": "code",
      "execution_count": null,
      "metadata": {
        "colab": {
          "base_uri": "https://localhost:8080/"
        },
        "id": "RWkpObAHrzIt",
        "outputId": "19777f81-72e1-464d-b848-dc92b22fd259"
      },
      "outputs": [
        {
          "data": {
            "text/plain": [
              "name                            False\n",
              "date_of_event                   False\n",
              "age                              True\n",
              "citizenship                     False\n",
              "event_location                  False\n",
              "event_location_district         False\n",
              "event_location_region           False\n",
              "date_of_death                   False\n",
              "gender                           True\n",
              "took_part_in_the_hostilities     True\n",
              "place_of_residence               True\n",
              "place_of_residence_district      True\n",
              "type_of_injury                   True\n",
              "ammunition                       True\n",
              "killed_by                       False\n",
              "notes                            True\n",
              "dtype: bool"
            ]
          },
          "execution_count": 23,
          "metadata": {},
          "output_type": "execute_result"
        }
      ],
      "source": [
        "war_fatalities_df_clean.isnull().any()"
      ]
    },
    {
      "cell_type": "code",
      "execution_count": null,
      "metadata": {
        "colab": {
          "base_uri": "https://localhost:8080/",
          "height": 1000
        },
        "id": "uNV05uzG8SnD",
        "outputId": "398c45fd-71ff-489c-b6c4-1cb84261f283"
      },
      "outputs": [
        {
          "data": {
            "text/html": [
              "<div>\n",
              "<style scoped>\n",
              "    .dataframe tbody tr th:only-of-type {\n",
              "        vertical-align: middle;\n",
              "    }\n",
              "\n",
              "    .dataframe tbody tr th {\n",
              "        vertical-align: top;\n",
              "    }\n",
              "\n",
              "    .dataframe thead th {\n",
              "        text-align: right;\n",
              "    }\n",
              "</style>\n",
              "<table border=\"1\" class=\"dataframe\">\n",
              "  <thead>\n",
              "    <tr style=\"text-align: right;\">\n",
              "      <th></th>\n",
              "      <th>name</th>\n",
              "      <th>date_of_event</th>\n",
              "      <th>age</th>\n",
              "      <th>citizenship</th>\n",
              "      <th>event_location</th>\n",
              "      <th>event_location_district</th>\n",
              "      <th>event_location_region</th>\n",
              "      <th>date_of_death</th>\n",
              "      <th>gender</th>\n",
              "      <th>took_part_in_the_hostilities</th>\n",
              "      <th>place_of_residence</th>\n",
              "      <th>place_of_residence_district</th>\n",
              "      <th>type_of_injury</th>\n",
              "      <th>ammunition</th>\n",
              "      <th>killed_by</th>\n",
              "      <th>notes</th>\n",
              "    </tr>\n",
              "  </thead>\n",
              "  <tbody>\n",
              "    <tr>\n",
              "      <th>0</th>\n",
              "      <td>'Abd a-Rahman Suleiman Muhammad Abu Daghash</td>\n",
              "      <td>2023-09-24</td>\n",
              "      <td>32.0</td>\n",
              "      <td>Palestinian</td>\n",
              "      <td>Nur Shams R.C.</td>\n",
              "      <td>Tulkarm</td>\n",
              "      <td>West Bank</td>\n",
              "      <td>2023-09-24</td>\n",
              "      <td>M</td>\n",
              "      <td>NaN</td>\n",
              "      <td>Nur Shams R.C.</td>\n",
              "      <td>Tulkarm</td>\n",
              "      <td>gunfire</td>\n",
              "      <td>live ammunition</td>\n",
              "      <td>Israeli security forces</td>\n",
              "      <td>Fatally shot by Israeli forces while standing ...</td>\n",
              "    </tr>\n",
              "    <tr>\n",
              "      <th>1</th>\n",
              "      <td>Usayed Farhan Muhammad 'Ali Abu 'Ali</td>\n",
              "      <td>2023-09-24</td>\n",
              "      <td>21.0</td>\n",
              "      <td>Palestinian</td>\n",
              "      <td>Nur Shams R.C.</td>\n",
              "      <td>Tulkarm</td>\n",
              "      <td>West Bank</td>\n",
              "      <td>2023-09-24</td>\n",
              "      <td>M</td>\n",
              "      <td>NaN</td>\n",
              "      <td>Nur Shams R.C.</td>\n",
              "      <td>Tulkarm</td>\n",
              "      <td>gunfire</td>\n",
              "      <td>live ammunition</td>\n",
              "      <td>Israeli security forces</td>\n",
              "      <td>Fatally shot by Israeli forces while trying to...</td>\n",
              "    </tr>\n",
              "    <tr>\n",
              "      <th>2</th>\n",
              "      <td>'Abdallah 'Imad Sa'ed Abu Hassan</td>\n",
              "      <td>2023-09-22</td>\n",
              "      <td>16.0</td>\n",
              "      <td>Palestinian</td>\n",
              "      <td>Kfar Dan</td>\n",
              "      <td>Jenin</td>\n",
              "      <td>West Bank</td>\n",
              "      <td>2023-09-22</td>\n",
              "      <td>M</td>\n",
              "      <td>NaN</td>\n",
              "      <td>al-Yamun</td>\n",
              "      <td>Jenin</td>\n",
              "      <td>gunfire</td>\n",
              "      <td>live ammunition</td>\n",
              "      <td>Israeli security forces</td>\n",
              "      <td>Fatally shot by soldiers while firing at them ...</td>\n",
              "    </tr>\n",
              "    <tr>\n",
              "      <th>3</th>\n",
              "      <td>Durgham Muhammad Yihya al-Akhras</td>\n",
              "      <td>2023-09-20</td>\n",
              "      <td>19.0</td>\n",
              "      <td>Palestinian</td>\n",
              "      <td>'Aqbat Jaber R.C.</td>\n",
              "      <td>Jericho</td>\n",
              "      <td>West Bank</td>\n",
              "      <td>2023-09-20</td>\n",
              "      <td>M</td>\n",
              "      <td>NaN</td>\n",
              "      <td>'Aqbat Jaber R.C.</td>\n",
              "      <td>Jericho</td>\n",
              "      <td>gunfire</td>\n",
              "      <td>live ammunition</td>\n",
              "      <td>Israeli security forces</td>\n",
              "      <td>Shot in the head by Israeli forces while throw...</td>\n",
              "    </tr>\n",
              "    <tr>\n",
              "      <th>4</th>\n",
              "      <td>Raafat 'Omar Ahmad Khamaisah</td>\n",
              "      <td>2023-09-19</td>\n",
              "      <td>15.0</td>\n",
              "      <td>Palestinian</td>\n",
              "      <td>Jenin R.C.</td>\n",
              "      <td>Jenin</td>\n",
              "      <td>West Bank</td>\n",
              "      <td>2023-09-19</td>\n",
              "      <td>M</td>\n",
              "      <td>NaN</td>\n",
              "      <td>Jenin</td>\n",
              "      <td>Jenin</td>\n",
              "      <td>gunfire</td>\n",
              "      <td>live ammunition</td>\n",
              "      <td>Israeli security forces</td>\n",
              "      <td>Wounded by soldiers’ gunfire after running awa...</td>\n",
              "    </tr>\n",
              "    <tr>\n",
              "      <th>...</th>\n",
              "      <td>...</td>\n",
              "      <td>...</td>\n",
              "      <td>...</td>\n",
              "      <td>...</td>\n",
              "      <td>...</td>\n",
              "      <td>...</td>\n",
              "      <td>...</td>\n",
              "      <td>...</td>\n",
              "      <td>...</td>\n",
              "      <td>...</td>\n",
              "      <td>...</td>\n",
              "      <td>...</td>\n",
              "      <td>...</td>\n",
              "      <td>...</td>\n",
              "      <td>...</td>\n",
              "      <td>...</td>\n",
              "    </tr>\n",
              "    <tr>\n",
              "      <th>11110</th>\n",
              "      <td>Mustafa Mahmoud Musa 'Alian</td>\n",
              "      <td>2000-11-14</td>\n",
              "      <td>47.0</td>\n",
              "      <td>Palestinian</td>\n",
              "      <td>Kafr Malik</td>\n",
              "      <td>Ramallah and al-Bira</td>\n",
              "      <td>West Bank</td>\n",
              "      <td>2000-11-14</td>\n",
              "      <td>M</td>\n",
              "      <td>No</td>\n",
              "      <td>Askar R.C.</td>\n",
              "      <td>Nablus</td>\n",
              "      <td>stones throwing</td>\n",
              "      <td>NaN</td>\n",
              "      <td>Israeli civilians</td>\n",
              "      <td>Killed as a result of being hit in the chest b...</td>\n",
              "    </tr>\n",
              "    <tr>\n",
              "      <th>11117</th>\n",
              "      <td>Amos Machlouf</td>\n",
              "      <td>2000-10-28</td>\n",
              "      <td>30.0</td>\n",
              "      <td>Israeli</td>\n",
              "      <td>Beit Jala</td>\n",
              "      <td>Bethlehem</td>\n",
              "      <td>West Bank</td>\n",
              "      <td>2000-10-28</td>\n",
              "      <td>M</td>\n",
              "      <td>Israelis</td>\n",
              "      <td>East Jerusalem</td>\n",
              "      <td>East Jerusalem</td>\n",
              "      <td>stabbing</td>\n",
              "      <td>NaN</td>\n",
              "      <td>Palestinian civilians</td>\n",
              "      <td>Killed when he was stabbed and shot. His body ...</td>\n",
              "    </tr>\n",
              "    <tr>\n",
              "      <th>11120</th>\n",
              "      <td>Farid Musa 'Issa a-Nesasreh</td>\n",
              "      <td>2000-10-17</td>\n",
              "      <td>28.0</td>\n",
              "      <td>Palestinian</td>\n",
              "      <td>Beit Furik</td>\n",
              "      <td>Nablus</td>\n",
              "      <td>West Bank</td>\n",
              "      <td>2000-10-17</td>\n",
              "      <td>M</td>\n",
              "      <td>Unknown</td>\n",
              "      <td>Beit Furik</td>\n",
              "      <td>Nablus</td>\n",
              "      <td>gunfire</td>\n",
              "      <td>NaN</td>\n",
              "      <td>Israeli civilians</td>\n",
              "      <td>Killed by a settler from Itamar while harvesti...</td>\n",
              "    </tr>\n",
              "    <tr>\n",
              "      <th>11122</th>\n",
              "      <td>Fahed Mustafa 'Odeh Baker</td>\n",
              "      <td>2000-10-07</td>\n",
              "      <td>21.0</td>\n",
              "      <td>Palestinian</td>\n",
              "      <td>Bidya</td>\n",
              "      <td>Salfit</td>\n",
              "      <td>West Bank</td>\n",
              "      <td>2000-10-07</td>\n",
              "      <td>M</td>\n",
              "      <td>No</td>\n",
              "      <td>Bidya</td>\n",
              "      <td>Salfit</td>\n",
              "      <td>gunfire</td>\n",
              "      <td>NaN</td>\n",
              "      <td>Israeli civilians</td>\n",
              "      <td>Killed by settlers who rioted in Biddya village.</td>\n",
              "    </tr>\n",
              "    <tr>\n",
              "      <th>11123</th>\n",
              "      <td>Wichlav Zalsevsky</td>\n",
              "      <td>2000-10-02</td>\n",
              "      <td>24.0</td>\n",
              "      <td>Israeli</td>\n",
              "      <td>Masha</td>\n",
              "      <td>Salfit</td>\n",
              "      <td>West Bank</td>\n",
              "      <td>2000-10-02</td>\n",
              "      <td>M</td>\n",
              "      <td>Israelis</td>\n",
              "      <td>Ashdod</td>\n",
              "      <td>Israel</td>\n",
              "      <td>gunfire</td>\n",
              "      <td>live ammunition</td>\n",
              "      <td>Palestinian civilians</td>\n",
              "      <td>NaN</td>\n",
              "    </tr>\n",
              "  </tbody>\n",
              "</table>\n",
              "<p>6463 rows × 16 columns</p>\n",
              "</div>"
            ],
            "text/plain": [
              "                                              name date_of_event   age  \\\n",
              "0      'Abd a-Rahman Suleiman Muhammad Abu Daghash    2023-09-24  32.0   \n",
              "1             Usayed Farhan Muhammad 'Ali Abu 'Ali    2023-09-24  21.0   \n",
              "2                 'Abdallah 'Imad Sa'ed Abu Hassan    2023-09-22  16.0   \n",
              "3                 Durgham Muhammad Yihya al-Akhras    2023-09-20  19.0   \n",
              "4                     Raafat 'Omar Ahmad Khamaisah    2023-09-19  15.0   \n",
              "...                                            ...           ...   ...   \n",
              "11110                  Mustafa Mahmoud Musa 'Alian    2000-11-14  47.0   \n",
              "11117                                Amos Machlouf    2000-10-28  30.0   \n",
              "11120                  Farid Musa 'Issa a-Nesasreh    2000-10-17  28.0   \n",
              "11122                    Fahed Mustafa 'Odeh Baker    2000-10-07  21.0   \n",
              "11123                            Wichlav Zalsevsky    2000-10-02  24.0   \n",
              "\n",
              "       citizenship     event_location event_location_district  \\\n",
              "0      Palestinian     Nur Shams R.C.                 Tulkarm   \n",
              "1      Palestinian     Nur Shams R.C.                 Tulkarm   \n",
              "2      Palestinian           Kfar Dan                   Jenin   \n",
              "3      Palestinian  'Aqbat Jaber R.C.                 Jericho   \n",
              "4      Palestinian         Jenin R.C.                   Jenin   \n",
              "...            ...                ...                     ...   \n",
              "11110  Palestinian         Kafr Malik    Ramallah and al-Bira   \n",
              "11117      Israeli          Beit Jala               Bethlehem   \n",
              "11120  Palestinian         Beit Furik                  Nablus   \n",
              "11122  Palestinian              Bidya                  Salfit   \n",
              "11123      Israeli              Masha                  Salfit   \n",
              "\n",
              "      event_location_region date_of_death gender took_part_in_the_hostilities  \\\n",
              "0                 West Bank    2023-09-24      M                          NaN   \n",
              "1                 West Bank    2023-09-24      M                          NaN   \n",
              "2                 West Bank    2023-09-22      M                          NaN   \n",
              "3                 West Bank    2023-09-20      M                          NaN   \n",
              "4                 West Bank    2023-09-19      M                          NaN   \n",
              "...                     ...           ...    ...                          ...   \n",
              "11110             West Bank    2000-11-14      M                           No   \n",
              "11117             West Bank    2000-10-28      M                     Israelis   \n",
              "11120             West Bank    2000-10-17      M                      Unknown   \n",
              "11122             West Bank    2000-10-07      M                           No   \n",
              "11123             West Bank    2000-10-02      M                     Israelis   \n",
              "\n",
              "      place_of_residence place_of_residence_district   type_of_injury  \\\n",
              "0         Nur Shams R.C.                     Tulkarm          gunfire   \n",
              "1         Nur Shams R.C.                     Tulkarm          gunfire   \n",
              "2               al-Yamun                       Jenin          gunfire   \n",
              "3      'Aqbat Jaber R.C.                     Jericho          gunfire   \n",
              "4                  Jenin                       Jenin          gunfire   \n",
              "...                  ...                         ...              ...   \n",
              "11110         Askar R.C.                      Nablus  stones throwing   \n",
              "11117     East Jerusalem              East Jerusalem         stabbing   \n",
              "11120         Beit Furik                      Nablus          gunfire   \n",
              "11122              Bidya                      Salfit          gunfire   \n",
              "11123             Ashdod                      Israel          gunfire   \n",
              "\n",
              "            ammunition                killed_by  \\\n",
              "0      live ammunition  Israeli security forces   \n",
              "1      live ammunition  Israeli security forces   \n",
              "2      live ammunition  Israeli security forces   \n",
              "3      live ammunition  Israeli security forces   \n",
              "4      live ammunition  Israeli security forces   \n",
              "...                ...                      ...   \n",
              "11110              NaN        Israeli civilians   \n",
              "11117              NaN    Palestinian civilians   \n",
              "11120              NaN        Israeli civilians   \n",
              "11122              NaN        Israeli civilians   \n",
              "11123  live ammunition    Palestinian civilians   \n",
              "\n",
              "                                                   notes  \n",
              "0      Fatally shot by Israeli forces while standing ...  \n",
              "1      Fatally shot by Israeli forces while trying to...  \n",
              "2      Fatally shot by soldiers while firing at them ...  \n",
              "3      Shot in the head by Israeli forces while throw...  \n",
              "4      Wounded by soldiers’ gunfire after running awa...  \n",
              "...                                                  ...  \n",
              "11110  Killed as a result of being hit in the chest b...  \n",
              "11117  Killed when he was stabbed and shot. His body ...  \n",
              "11120  Killed by a settler from Itamar while harvesti...  \n",
              "11122   Killed by settlers who rioted in Biddya village.  \n",
              "11123                                                NaN  \n",
              "\n",
              "[6463 rows x 16 columns]"
            ]
          },
          "execution_count": 24,
          "metadata": {},
          "output_type": "execute_result"
        }
      ],
      "source": [
        "missing_value_rows = war_fatalities_df[war_fatalities_df.isnull().any(axis=1)]\n",
        "missing_value_rows"
      ]
    },
    {
      "cell_type": "code",
      "execution_count": null,
      "metadata": {
        "colab": {
          "base_uri": "https://localhost:8080/"
        },
        "id": "KtGCfBYDyp7h",
        "outputId": "36170db9-7fee-4425-e830-37e5a576f160"
      },
      "outputs": [
        {
          "name": "stdout",
          "output_type": "stream",
          "text": [
            "Percentage of rows with null values in specified columns: 47.52%\n"
          ]
        }
      ],
      "source": [
        "\n",
        "columns_to_check = [\n",
        "    'date_of_event', 'age', 'citizenship', 'event_location',\n",
        "    'event_location_district', 'event_location_region', 'date_of_death',\n",
        "    'gender', 'type_of_injury', 'ammunition', 'killed_by'\n",
        "]\n",
        "\n",
        "\n",
        "nan_values = war_fatalities_df_clean[columns_to_check].isnull().any(axis=1).sum()\n",
        "\n",
        "\n",
        "total_rows = len(war_fatalities_df_clean)\n",
        "\n",
        "\n",
        "percentage_null_rows = (nan_values / total_rows) * 100\n",
        "print(f\"Percentage of rows with null values in specified columns: {percentage_null_rows:.2f}%\")"
      ]
    },
    {
      "cell_type": "markdown",
      "metadata": {
        "id": "hL0oc7kQLQvy"
      },
      "source": [
        "Dropping the rows with NAN Values except from the column `took_part_in_the_hostilities`"
      ]
    },
    {
      "cell_type": "code",
      "execution_count": null,
      "metadata": {
        "colab": {
          "base_uri": "https://localhost:8080/"
        },
        "id": "43Wgo40yLVcr",
        "outputId": "399474c0-d689-4201-dddb-ad6cf58ed8bb"
      },
      "outputs": [
        {
          "name": "stdout",
          "output_type": "stream",
          "text": [
            "(5717, 16)\n"
          ]
        }
      ],
      "source": [
        "war_fatalities_df_clean.dropna(subset=war_fatalities_df_clean.columns.difference(['took_part_in_the_hostilities']), axis=0, inplace=True)\n",
        "print(war_fatalities_df_clean.shape)"
      ]
    },
    {
      "cell_type": "code",
      "execution_count": null,
      "metadata": {
        "colab": {
          "base_uri": "https://localhost:8080/",
          "height": 1000
        },
        "id": "DR9ypYdIMrCw",
        "outputId": "3bc9dd24-88da-48ad-ec6c-38d1fcfdf8ea"
      },
      "outputs": [
        {
          "data": {
            "text/html": [
              "<div>\n",
              "<style scoped>\n",
              "    .dataframe tbody tr th:only-of-type {\n",
              "        vertical-align: middle;\n",
              "    }\n",
              "\n",
              "    .dataframe tbody tr th {\n",
              "        vertical-align: top;\n",
              "    }\n",
              "\n",
              "    .dataframe thead th {\n",
              "        text-align: right;\n",
              "    }\n",
              "</style>\n",
              "<table border=\"1\" class=\"dataframe\">\n",
              "  <thead>\n",
              "    <tr style=\"text-align: right;\">\n",
              "      <th></th>\n",
              "      <th>name</th>\n",
              "      <th>date_of_event</th>\n",
              "      <th>age</th>\n",
              "      <th>citizenship</th>\n",
              "      <th>event_location</th>\n",
              "      <th>event_location_district</th>\n",
              "      <th>event_location_region</th>\n",
              "      <th>date_of_death</th>\n",
              "      <th>gender</th>\n",
              "      <th>took_part_in_the_hostilities</th>\n",
              "      <th>place_of_residence</th>\n",
              "      <th>place_of_residence_district</th>\n",
              "      <th>type_of_injury</th>\n",
              "      <th>ammunition</th>\n",
              "      <th>killed_by</th>\n",
              "      <th>notes</th>\n",
              "    </tr>\n",
              "  </thead>\n",
              "  <tbody>\n",
              "    <tr>\n",
              "      <th>0</th>\n",
              "      <td>'Abd a-Rahman Suleiman Muhammad Abu Daghash</td>\n",
              "      <td>2023-09-24</td>\n",
              "      <td>32.0</td>\n",
              "      <td>Palestinian</td>\n",
              "      <td>Nur Shams R.C.</td>\n",
              "      <td>Tulkarm</td>\n",
              "      <td>West Bank</td>\n",
              "      <td>2023-09-24</td>\n",
              "      <td>M</td>\n",
              "      <td>NaN</td>\n",
              "      <td>Nur Shams R.C.</td>\n",
              "      <td>Tulkarm</td>\n",
              "      <td>gunfire</td>\n",
              "      <td>live ammunition</td>\n",
              "      <td>Israeli security forces</td>\n",
              "      <td>Fatally shot by Israeli forces while standing ...</td>\n",
              "    </tr>\n",
              "    <tr>\n",
              "      <th>1</th>\n",
              "      <td>Usayed Farhan Muhammad 'Ali Abu 'Ali</td>\n",
              "      <td>2023-09-24</td>\n",
              "      <td>21.0</td>\n",
              "      <td>Palestinian</td>\n",
              "      <td>Nur Shams R.C.</td>\n",
              "      <td>Tulkarm</td>\n",
              "      <td>West Bank</td>\n",
              "      <td>2023-09-24</td>\n",
              "      <td>M</td>\n",
              "      <td>NaN</td>\n",
              "      <td>Nur Shams R.C.</td>\n",
              "      <td>Tulkarm</td>\n",
              "      <td>gunfire</td>\n",
              "      <td>live ammunition</td>\n",
              "      <td>Israeli security forces</td>\n",
              "      <td>Fatally shot by Israeli forces while trying to...</td>\n",
              "    </tr>\n",
              "    <tr>\n",
              "      <th>2</th>\n",
              "      <td>'Abdallah 'Imad Sa'ed Abu Hassan</td>\n",
              "      <td>2023-09-22</td>\n",
              "      <td>16.0</td>\n",
              "      <td>Palestinian</td>\n",
              "      <td>Kfar Dan</td>\n",
              "      <td>Jenin</td>\n",
              "      <td>West Bank</td>\n",
              "      <td>2023-09-22</td>\n",
              "      <td>M</td>\n",
              "      <td>NaN</td>\n",
              "      <td>al-Yamun</td>\n",
              "      <td>Jenin</td>\n",
              "      <td>gunfire</td>\n",
              "      <td>live ammunition</td>\n",
              "      <td>Israeli security forces</td>\n",
              "      <td>Fatally shot by soldiers while firing at them ...</td>\n",
              "    </tr>\n",
              "    <tr>\n",
              "      <th>3</th>\n",
              "      <td>Durgham Muhammad Yihya al-Akhras</td>\n",
              "      <td>2023-09-20</td>\n",
              "      <td>19.0</td>\n",
              "      <td>Palestinian</td>\n",
              "      <td>'Aqbat Jaber R.C.</td>\n",
              "      <td>Jericho</td>\n",
              "      <td>West Bank</td>\n",
              "      <td>2023-09-20</td>\n",
              "      <td>M</td>\n",
              "      <td>NaN</td>\n",
              "      <td>'Aqbat Jaber R.C.</td>\n",
              "      <td>Jericho</td>\n",
              "      <td>gunfire</td>\n",
              "      <td>live ammunition</td>\n",
              "      <td>Israeli security forces</td>\n",
              "      <td>Shot in the head by Israeli forces while throw...</td>\n",
              "    </tr>\n",
              "    <tr>\n",
              "      <th>4</th>\n",
              "      <td>Raafat 'Omar Ahmad Khamaisah</td>\n",
              "      <td>2023-09-19</td>\n",
              "      <td>15.0</td>\n",
              "      <td>Palestinian</td>\n",
              "      <td>Jenin R.C.</td>\n",
              "      <td>Jenin</td>\n",
              "      <td>West Bank</td>\n",
              "      <td>2023-09-19</td>\n",
              "      <td>M</td>\n",
              "      <td>NaN</td>\n",
              "      <td>Jenin</td>\n",
              "      <td>Jenin</td>\n",
              "      <td>gunfire</td>\n",
              "      <td>live ammunition</td>\n",
              "      <td>Israeli security forces</td>\n",
              "      <td>Wounded by soldiers’ gunfire after running awa...</td>\n",
              "    </tr>\n",
              "    <tr>\n",
              "      <th>...</th>\n",
              "      <td>...</td>\n",
              "      <td>...</td>\n",
              "      <td>...</td>\n",
              "      <td>...</td>\n",
              "      <td>...</td>\n",
              "      <td>...</td>\n",
              "      <td>...</td>\n",
              "      <td>...</td>\n",
              "      <td>...</td>\n",
              "      <td>...</td>\n",
              "      <td>...</td>\n",
              "      <td>...</td>\n",
              "      <td>...</td>\n",
              "      <td>...</td>\n",
              "      <td>...</td>\n",
              "      <td>...</td>\n",
              "    </tr>\n",
              "    <tr>\n",
              "      <th>11115</th>\n",
              "      <td>Hanan Levy</td>\n",
              "      <td>2000-11-02</td>\n",
              "      <td>33.0</td>\n",
              "      <td>Israeli</td>\n",
              "      <td>Jerusalem</td>\n",
              "      <td>Israel</td>\n",
              "      <td>Israel</td>\n",
              "      <td>2000-11-02</td>\n",
              "      <td>M</td>\n",
              "      <td>Israelis</td>\n",
              "      <td>Jerusalem</td>\n",
              "      <td>Israel</td>\n",
              "      <td>explosion</td>\n",
              "      <td>car bomb</td>\n",
              "      <td>Palestinian civilians</td>\n",
              "      <td>killed in a booby-trapped car near the Mahane ...</td>\n",
              "    </tr>\n",
              "    <tr>\n",
              "      <th>11116</th>\n",
              "      <td>Eish Kodesh Gilmor</td>\n",
              "      <td>2000-10-30</td>\n",
              "      <td>25.0</td>\n",
              "      <td>Israeli</td>\n",
              "      <td>East Jerusalem</td>\n",
              "      <td>East Jerusalem</td>\n",
              "      <td>West Bank</td>\n",
              "      <td>2000-10-30</td>\n",
              "      <td>M</td>\n",
              "      <td>Israelis</td>\n",
              "      <td>Mevo Modi'im</td>\n",
              "      <td>Israel</td>\n",
              "      <td>gunfire</td>\n",
              "      <td>live ammunition</td>\n",
              "      <td>Palestinian civilians</td>\n",
              "      <td>Killed while he was guarding a National Insura...</td>\n",
              "    </tr>\n",
              "    <tr>\n",
              "      <th>11118</th>\n",
              "      <td>Marik Gavrilov</td>\n",
              "      <td>2000-10-27</td>\n",
              "      <td>25.0</td>\n",
              "      <td>Israeli</td>\n",
              "      <td>Ramallah</td>\n",
              "      <td>Ramallah and al-Bira</td>\n",
              "      <td>West Bank</td>\n",
              "      <td>2000-10-27</td>\n",
              "      <td>M</td>\n",
              "      <td>Israelis</td>\n",
              "      <td>Banei Ayish</td>\n",
              "      <td>Israel</td>\n",
              "      <td>gunfire</td>\n",
              "      <td>live ammunition</td>\n",
              "      <td>Palestinian civilians</td>\n",
              "      <td>His body was found burnt in his car.</td>\n",
              "    </tr>\n",
              "    <tr>\n",
              "      <th>11119</th>\n",
              "      <td>Binyamin Herling</td>\n",
              "      <td>2000-10-19</td>\n",
              "      <td>64.0</td>\n",
              "      <td>Israeli</td>\n",
              "      <td>Nablus</td>\n",
              "      <td>Nablus</td>\n",
              "      <td>West Bank</td>\n",
              "      <td>2000-10-19</td>\n",
              "      <td>M</td>\n",
              "      <td>Israelis</td>\n",
              "      <td>Kedumim</td>\n",
              "      <td>Tulkarm</td>\n",
              "      <td>gunfire</td>\n",
              "      <td>live ammunition</td>\n",
              "      <td>Palestinian civilians</td>\n",
              "      <td>Killed while hiking on Mt. Eival.</td>\n",
              "    </tr>\n",
              "    <tr>\n",
              "      <th>11121</th>\n",
              "      <td>Hillel Lieberman</td>\n",
              "      <td>2000-10-07</td>\n",
              "      <td>36.0</td>\n",
              "      <td>Israeli</td>\n",
              "      <td>Nablus</td>\n",
              "      <td>Nablus</td>\n",
              "      <td>West Bank</td>\n",
              "      <td>2000-10-07</td>\n",
              "      <td>M</td>\n",
              "      <td>Israelis</td>\n",
              "      <td>Elon Moreh</td>\n",
              "      <td>Nablus</td>\n",
              "      <td>gunfire</td>\n",
              "      <td>live ammunition</td>\n",
              "      <td>Palestinian civilians</td>\n",
              "      <td>His body was found a day after he disappeared.</td>\n",
              "    </tr>\n",
              "  </tbody>\n",
              "</table>\n",
              "<p>5717 rows × 16 columns</p>\n",
              "</div>"
            ],
            "text/plain": [
              "                                              name date_of_event   age  \\\n",
              "0      'Abd a-Rahman Suleiman Muhammad Abu Daghash    2023-09-24  32.0   \n",
              "1             Usayed Farhan Muhammad 'Ali Abu 'Ali    2023-09-24  21.0   \n",
              "2                 'Abdallah 'Imad Sa'ed Abu Hassan    2023-09-22  16.0   \n",
              "3                 Durgham Muhammad Yihya al-Akhras    2023-09-20  19.0   \n",
              "4                     Raafat 'Omar Ahmad Khamaisah    2023-09-19  15.0   \n",
              "...                                            ...           ...   ...   \n",
              "11115                                   Hanan Levy    2000-11-02  33.0   \n",
              "11116                           Eish Kodesh Gilmor    2000-10-30  25.0   \n",
              "11118                               Marik Gavrilov    2000-10-27  25.0   \n",
              "11119                             Binyamin Herling    2000-10-19  64.0   \n",
              "11121                             Hillel Lieberman    2000-10-07  36.0   \n",
              "\n",
              "       citizenship     event_location event_location_district  \\\n",
              "0      Palestinian     Nur Shams R.C.                 Tulkarm   \n",
              "1      Palestinian     Nur Shams R.C.                 Tulkarm   \n",
              "2      Palestinian           Kfar Dan                   Jenin   \n",
              "3      Palestinian  'Aqbat Jaber R.C.                 Jericho   \n",
              "4      Palestinian         Jenin R.C.                   Jenin   \n",
              "...            ...                ...                     ...   \n",
              "11115      Israeli          Jerusalem                  Israel   \n",
              "11116      Israeli     East Jerusalem          East Jerusalem   \n",
              "11118      Israeli           Ramallah    Ramallah and al-Bira   \n",
              "11119      Israeli             Nablus                  Nablus   \n",
              "11121      Israeli             Nablus                  Nablus   \n",
              "\n",
              "      event_location_region date_of_death gender took_part_in_the_hostilities  \\\n",
              "0                 West Bank    2023-09-24      M                          NaN   \n",
              "1                 West Bank    2023-09-24      M                          NaN   \n",
              "2                 West Bank    2023-09-22      M                          NaN   \n",
              "3                 West Bank    2023-09-20      M                          NaN   \n",
              "4                 West Bank    2023-09-19      M                          NaN   \n",
              "...                     ...           ...    ...                          ...   \n",
              "11115                Israel    2000-11-02      M                     Israelis   \n",
              "11116             West Bank    2000-10-30      M                     Israelis   \n",
              "11118             West Bank    2000-10-27      M                     Israelis   \n",
              "11119             West Bank    2000-10-19      M                     Israelis   \n",
              "11121             West Bank    2000-10-07      M                     Israelis   \n",
              "\n",
              "      place_of_residence place_of_residence_district type_of_injury  \\\n",
              "0         Nur Shams R.C.                     Tulkarm        gunfire   \n",
              "1         Nur Shams R.C.                     Tulkarm        gunfire   \n",
              "2               al-Yamun                       Jenin        gunfire   \n",
              "3      'Aqbat Jaber R.C.                     Jericho        gunfire   \n",
              "4                  Jenin                       Jenin        gunfire   \n",
              "...                  ...                         ...            ...   \n",
              "11115          Jerusalem                      Israel      explosion   \n",
              "11116       Mevo Modi'im                      Israel        gunfire   \n",
              "11118        Banei Ayish                      Israel        gunfire   \n",
              "11119            Kedumim                     Tulkarm        gunfire   \n",
              "11121         Elon Moreh                      Nablus        gunfire   \n",
              "\n",
              "            ammunition                killed_by  \\\n",
              "0      live ammunition  Israeli security forces   \n",
              "1      live ammunition  Israeli security forces   \n",
              "2      live ammunition  Israeli security forces   \n",
              "3      live ammunition  Israeli security forces   \n",
              "4      live ammunition  Israeli security forces   \n",
              "...                ...                      ...   \n",
              "11115         car bomb    Palestinian civilians   \n",
              "11116  live ammunition    Palestinian civilians   \n",
              "11118  live ammunition    Palestinian civilians   \n",
              "11119  live ammunition    Palestinian civilians   \n",
              "11121  live ammunition    Palestinian civilians   \n",
              "\n",
              "                                                   notes  \n",
              "0      Fatally shot by Israeli forces while standing ...  \n",
              "1      Fatally shot by Israeli forces while trying to...  \n",
              "2      Fatally shot by soldiers while firing at them ...  \n",
              "3      Shot in the head by Israeli forces while throw...  \n",
              "4      Wounded by soldiers’ gunfire after running awa...  \n",
              "...                                                  ...  \n",
              "11115  killed in a booby-trapped car near the Mahane ...  \n",
              "11116  Killed while he was guarding a National Insura...  \n",
              "11118               His body was found burnt in his car.  \n",
              "11119                  Killed while hiking on Mt. Eival.  \n",
              "11121     His body was found a day after he disappeared.  \n",
              "\n",
              "[5717 rows x 16 columns]"
            ]
          },
          "execution_count": 27,
          "metadata": {},
          "output_type": "execute_result"
        }
      ],
      "source": [
        "war_fatalities_df_clean"
      ]
    },
    {
      "cell_type": "markdown",
      "metadata": {
        "id": "LayIMlwPsy9B"
      },
      "source": [
        "Second, let's check if there are duplicates in the dataset"
      ]
    },
    {
      "cell_type": "code",
      "execution_count": null,
      "metadata": {
        "colab": {
          "base_uri": "https://localhost:8080/",
          "height": 73
        },
        "id": "9LvzLaSOs_Nm",
        "outputId": "361d0cc2-93d5-4ebe-cc76-fbd3a326dbc4"
      },
      "outputs": [
        {
          "data": {
            "text/html": [
              "<div>\n",
              "<style scoped>\n",
              "    .dataframe tbody tr th:only-of-type {\n",
              "        vertical-align: middle;\n",
              "    }\n",
              "\n",
              "    .dataframe tbody tr th {\n",
              "        vertical-align: top;\n",
              "    }\n",
              "\n",
              "    .dataframe thead th {\n",
              "        text-align: right;\n",
              "    }\n",
              "</style>\n",
              "<table border=\"1\" class=\"dataframe\">\n",
              "  <thead>\n",
              "    <tr style=\"text-align: right;\">\n",
              "      <th></th>\n",
              "      <th>name</th>\n",
              "      <th>date_of_event</th>\n",
              "      <th>age</th>\n",
              "      <th>citizenship</th>\n",
              "      <th>event_location</th>\n",
              "      <th>event_location_district</th>\n",
              "      <th>event_location_region</th>\n",
              "      <th>date_of_death</th>\n",
              "      <th>gender</th>\n",
              "      <th>took_part_in_the_hostilities</th>\n",
              "      <th>place_of_residence</th>\n",
              "      <th>place_of_residence_district</th>\n",
              "      <th>type_of_injury</th>\n",
              "      <th>ammunition</th>\n",
              "      <th>killed_by</th>\n",
              "      <th>notes</th>\n",
              "    </tr>\n",
              "  </thead>\n",
              "  <tbody>\n",
              "  </tbody>\n",
              "</table>\n",
              "</div>"
            ],
            "text/plain": [
              "Empty DataFrame\n",
              "Columns: [name, date_of_event, age, citizenship, event_location, event_location_district, event_location_region, date_of_death, gender, took_part_in_the_hostilities, place_of_residence, place_of_residence_district, type_of_injury, ammunition, killed_by, notes]\n",
              "Index: []"
            ]
          },
          "execution_count": 28,
          "metadata": {},
          "output_type": "execute_result"
        }
      ],
      "source": [
        "duplicate_rows = war_fatalities_df_clean[war_fatalities_df_clean.duplicated()]\n",
        "duplicate_rows"
      ]
    },
    {
      "cell_type": "code",
      "execution_count": null,
      "metadata": {
        "id": "vXBZRxT-tIOk"
      },
      "outputs": [],
      "source": [
        "war_fatalities_df_clean = war_fatalities_df_clean.drop_duplicates()"
      ]
    },
    {
      "cell_type": "code",
      "execution_count": null,
      "metadata": {
        "colab": {
          "base_uri": "https://localhost:8080/",
          "height": 1000
        },
        "id": "Wsjf9oCEtaa_",
        "outputId": "a230362d-e873-4c7a-ea8b-3fa8bf1e8618"
      },
      "outputs": [
        {
          "data": {
            "text/html": [
              "<div>\n",
              "<style scoped>\n",
              "    .dataframe tbody tr th:only-of-type {\n",
              "        vertical-align: middle;\n",
              "    }\n",
              "\n",
              "    .dataframe tbody tr th {\n",
              "        vertical-align: top;\n",
              "    }\n",
              "\n",
              "    .dataframe thead th {\n",
              "        text-align: right;\n",
              "    }\n",
              "</style>\n",
              "<table border=\"1\" class=\"dataframe\">\n",
              "  <thead>\n",
              "    <tr style=\"text-align: right;\">\n",
              "      <th></th>\n",
              "      <th>name</th>\n",
              "      <th>date_of_event</th>\n",
              "      <th>age</th>\n",
              "      <th>citizenship</th>\n",
              "      <th>event_location</th>\n",
              "      <th>event_location_district</th>\n",
              "      <th>event_location_region</th>\n",
              "      <th>date_of_death</th>\n",
              "      <th>gender</th>\n",
              "      <th>took_part_in_the_hostilities</th>\n",
              "      <th>place_of_residence</th>\n",
              "      <th>place_of_residence_district</th>\n",
              "      <th>type_of_injury</th>\n",
              "      <th>ammunition</th>\n",
              "      <th>killed_by</th>\n",
              "      <th>notes</th>\n",
              "    </tr>\n",
              "  </thead>\n",
              "  <tbody>\n",
              "    <tr>\n",
              "      <th>0</th>\n",
              "      <td>'Abd a-Rahman Suleiman Muhammad Abu Daghash</td>\n",
              "      <td>2023-09-24</td>\n",
              "      <td>32.0</td>\n",
              "      <td>Palestinian</td>\n",
              "      <td>Nur Shams R.C.</td>\n",
              "      <td>Tulkarm</td>\n",
              "      <td>West Bank</td>\n",
              "      <td>2023-09-24</td>\n",
              "      <td>M</td>\n",
              "      <td>NaN</td>\n",
              "      <td>Nur Shams R.C.</td>\n",
              "      <td>Tulkarm</td>\n",
              "      <td>gunfire</td>\n",
              "      <td>live ammunition</td>\n",
              "      <td>Israeli security forces</td>\n",
              "      <td>Fatally shot by Israeli forces while standing ...</td>\n",
              "    </tr>\n",
              "    <tr>\n",
              "      <th>1</th>\n",
              "      <td>Usayed Farhan Muhammad 'Ali Abu 'Ali</td>\n",
              "      <td>2023-09-24</td>\n",
              "      <td>21.0</td>\n",
              "      <td>Palestinian</td>\n",
              "      <td>Nur Shams R.C.</td>\n",
              "      <td>Tulkarm</td>\n",
              "      <td>West Bank</td>\n",
              "      <td>2023-09-24</td>\n",
              "      <td>M</td>\n",
              "      <td>NaN</td>\n",
              "      <td>Nur Shams R.C.</td>\n",
              "      <td>Tulkarm</td>\n",
              "      <td>gunfire</td>\n",
              "      <td>live ammunition</td>\n",
              "      <td>Israeli security forces</td>\n",
              "      <td>Fatally shot by Israeli forces while trying to...</td>\n",
              "    </tr>\n",
              "    <tr>\n",
              "      <th>2</th>\n",
              "      <td>'Abdallah 'Imad Sa'ed Abu Hassan</td>\n",
              "      <td>2023-09-22</td>\n",
              "      <td>16.0</td>\n",
              "      <td>Palestinian</td>\n",
              "      <td>Kfar Dan</td>\n",
              "      <td>Jenin</td>\n",
              "      <td>West Bank</td>\n",
              "      <td>2023-09-22</td>\n",
              "      <td>M</td>\n",
              "      <td>NaN</td>\n",
              "      <td>al-Yamun</td>\n",
              "      <td>Jenin</td>\n",
              "      <td>gunfire</td>\n",
              "      <td>live ammunition</td>\n",
              "      <td>Israeli security forces</td>\n",
              "      <td>Fatally shot by soldiers while firing at them ...</td>\n",
              "    </tr>\n",
              "    <tr>\n",
              "      <th>3</th>\n",
              "      <td>Durgham Muhammad Yihya al-Akhras</td>\n",
              "      <td>2023-09-20</td>\n",
              "      <td>19.0</td>\n",
              "      <td>Palestinian</td>\n",
              "      <td>'Aqbat Jaber R.C.</td>\n",
              "      <td>Jericho</td>\n",
              "      <td>West Bank</td>\n",
              "      <td>2023-09-20</td>\n",
              "      <td>M</td>\n",
              "      <td>NaN</td>\n",
              "      <td>'Aqbat Jaber R.C.</td>\n",
              "      <td>Jericho</td>\n",
              "      <td>gunfire</td>\n",
              "      <td>live ammunition</td>\n",
              "      <td>Israeli security forces</td>\n",
              "      <td>Shot in the head by Israeli forces while throw...</td>\n",
              "    </tr>\n",
              "    <tr>\n",
              "      <th>4</th>\n",
              "      <td>Raafat 'Omar Ahmad Khamaisah</td>\n",
              "      <td>2023-09-19</td>\n",
              "      <td>15.0</td>\n",
              "      <td>Palestinian</td>\n",
              "      <td>Jenin R.C.</td>\n",
              "      <td>Jenin</td>\n",
              "      <td>West Bank</td>\n",
              "      <td>2023-09-19</td>\n",
              "      <td>M</td>\n",
              "      <td>NaN</td>\n",
              "      <td>Jenin</td>\n",
              "      <td>Jenin</td>\n",
              "      <td>gunfire</td>\n",
              "      <td>live ammunition</td>\n",
              "      <td>Israeli security forces</td>\n",
              "      <td>Wounded by soldiers’ gunfire after running awa...</td>\n",
              "    </tr>\n",
              "    <tr>\n",
              "      <th>...</th>\n",
              "      <td>...</td>\n",
              "      <td>...</td>\n",
              "      <td>...</td>\n",
              "      <td>...</td>\n",
              "      <td>...</td>\n",
              "      <td>...</td>\n",
              "      <td>...</td>\n",
              "      <td>...</td>\n",
              "      <td>...</td>\n",
              "      <td>...</td>\n",
              "      <td>...</td>\n",
              "      <td>...</td>\n",
              "      <td>...</td>\n",
              "      <td>...</td>\n",
              "      <td>...</td>\n",
              "      <td>...</td>\n",
              "    </tr>\n",
              "    <tr>\n",
              "      <th>11115</th>\n",
              "      <td>Hanan Levy</td>\n",
              "      <td>2000-11-02</td>\n",
              "      <td>33.0</td>\n",
              "      <td>Israeli</td>\n",
              "      <td>Jerusalem</td>\n",
              "      <td>Israel</td>\n",
              "      <td>Israel</td>\n",
              "      <td>2000-11-02</td>\n",
              "      <td>M</td>\n",
              "      <td>Israelis</td>\n",
              "      <td>Jerusalem</td>\n",
              "      <td>Israel</td>\n",
              "      <td>explosion</td>\n",
              "      <td>car bomb</td>\n",
              "      <td>Palestinian civilians</td>\n",
              "      <td>killed in a booby-trapped car near the Mahane ...</td>\n",
              "    </tr>\n",
              "    <tr>\n",
              "      <th>11116</th>\n",
              "      <td>Eish Kodesh Gilmor</td>\n",
              "      <td>2000-10-30</td>\n",
              "      <td>25.0</td>\n",
              "      <td>Israeli</td>\n",
              "      <td>East Jerusalem</td>\n",
              "      <td>East Jerusalem</td>\n",
              "      <td>West Bank</td>\n",
              "      <td>2000-10-30</td>\n",
              "      <td>M</td>\n",
              "      <td>Israelis</td>\n",
              "      <td>Mevo Modi'im</td>\n",
              "      <td>Israel</td>\n",
              "      <td>gunfire</td>\n",
              "      <td>live ammunition</td>\n",
              "      <td>Palestinian civilians</td>\n",
              "      <td>Killed while he was guarding a National Insura...</td>\n",
              "    </tr>\n",
              "    <tr>\n",
              "      <th>11118</th>\n",
              "      <td>Marik Gavrilov</td>\n",
              "      <td>2000-10-27</td>\n",
              "      <td>25.0</td>\n",
              "      <td>Israeli</td>\n",
              "      <td>Ramallah</td>\n",
              "      <td>Ramallah and al-Bira</td>\n",
              "      <td>West Bank</td>\n",
              "      <td>2000-10-27</td>\n",
              "      <td>M</td>\n",
              "      <td>Israelis</td>\n",
              "      <td>Banei Ayish</td>\n",
              "      <td>Israel</td>\n",
              "      <td>gunfire</td>\n",
              "      <td>live ammunition</td>\n",
              "      <td>Palestinian civilians</td>\n",
              "      <td>His body was found burnt in his car.</td>\n",
              "    </tr>\n",
              "    <tr>\n",
              "      <th>11119</th>\n",
              "      <td>Binyamin Herling</td>\n",
              "      <td>2000-10-19</td>\n",
              "      <td>64.0</td>\n",
              "      <td>Israeli</td>\n",
              "      <td>Nablus</td>\n",
              "      <td>Nablus</td>\n",
              "      <td>West Bank</td>\n",
              "      <td>2000-10-19</td>\n",
              "      <td>M</td>\n",
              "      <td>Israelis</td>\n",
              "      <td>Kedumim</td>\n",
              "      <td>Tulkarm</td>\n",
              "      <td>gunfire</td>\n",
              "      <td>live ammunition</td>\n",
              "      <td>Palestinian civilians</td>\n",
              "      <td>Killed while hiking on Mt. Eival.</td>\n",
              "    </tr>\n",
              "    <tr>\n",
              "      <th>11121</th>\n",
              "      <td>Hillel Lieberman</td>\n",
              "      <td>2000-10-07</td>\n",
              "      <td>36.0</td>\n",
              "      <td>Israeli</td>\n",
              "      <td>Nablus</td>\n",
              "      <td>Nablus</td>\n",
              "      <td>West Bank</td>\n",
              "      <td>2000-10-07</td>\n",
              "      <td>M</td>\n",
              "      <td>Israelis</td>\n",
              "      <td>Elon Moreh</td>\n",
              "      <td>Nablus</td>\n",
              "      <td>gunfire</td>\n",
              "      <td>live ammunition</td>\n",
              "      <td>Palestinian civilians</td>\n",
              "      <td>His body was found a day after he disappeared.</td>\n",
              "    </tr>\n",
              "  </tbody>\n",
              "</table>\n",
              "<p>5717 rows × 16 columns</p>\n",
              "</div>"
            ],
            "text/plain": [
              "                                              name date_of_event   age  \\\n",
              "0      'Abd a-Rahman Suleiman Muhammad Abu Daghash    2023-09-24  32.0   \n",
              "1             Usayed Farhan Muhammad 'Ali Abu 'Ali    2023-09-24  21.0   \n",
              "2                 'Abdallah 'Imad Sa'ed Abu Hassan    2023-09-22  16.0   \n",
              "3                 Durgham Muhammad Yihya al-Akhras    2023-09-20  19.0   \n",
              "4                     Raafat 'Omar Ahmad Khamaisah    2023-09-19  15.0   \n",
              "...                                            ...           ...   ...   \n",
              "11115                                   Hanan Levy    2000-11-02  33.0   \n",
              "11116                           Eish Kodesh Gilmor    2000-10-30  25.0   \n",
              "11118                               Marik Gavrilov    2000-10-27  25.0   \n",
              "11119                             Binyamin Herling    2000-10-19  64.0   \n",
              "11121                             Hillel Lieberman    2000-10-07  36.0   \n",
              "\n",
              "       citizenship     event_location event_location_district  \\\n",
              "0      Palestinian     Nur Shams R.C.                 Tulkarm   \n",
              "1      Palestinian     Nur Shams R.C.                 Tulkarm   \n",
              "2      Palestinian           Kfar Dan                   Jenin   \n",
              "3      Palestinian  'Aqbat Jaber R.C.                 Jericho   \n",
              "4      Palestinian         Jenin R.C.                   Jenin   \n",
              "...            ...                ...                     ...   \n",
              "11115      Israeli          Jerusalem                  Israel   \n",
              "11116      Israeli     East Jerusalem          East Jerusalem   \n",
              "11118      Israeli           Ramallah    Ramallah and al-Bira   \n",
              "11119      Israeli             Nablus                  Nablus   \n",
              "11121      Israeli             Nablus                  Nablus   \n",
              "\n",
              "      event_location_region date_of_death gender took_part_in_the_hostilities  \\\n",
              "0                 West Bank    2023-09-24      M                          NaN   \n",
              "1                 West Bank    2023-09-24      M                          NaN   \n",
              "2                 West Bank    2023-09-22      M                          NaN   \n",
              "3                 West Bank    2023-09-20      M                          NaN   \n",
              "4                 West Bank    2023-09-19      M                          NaN   \n",
              "...                     ...           ...    ...                          ...   \n",
              "11115                Israel    2000-11-02      M                     Israelis   \n",
              "11116             West Bank    2000-10-30      M                     Israelis   \n",
              "11118             West Bank    2000-10-27      M                     Israelis   \n",
              "11119             West Bank    2000-10-19      M                     Israelis   \n",
              "11121             West Bank    2000-10-07      M                     Israelis   \n",
              "\n",
              "      place_of_residence place_of_residence_district type_of_injury  \\\n",
              "0         Nur Shams R.C.                     Tulkarm        gunfire   \n",
              "1         Nur Shams R.C.                     Tulkarm        gunfire   \n",
              "2               al-Yamun                       Jenin        gunfire   \n",
              "3      'Aqbat Jaber R.C.                     Jericho        gunfire   \n",
              "4                  Jenin                       Jenin        gunfire   \n",
              "...                  ...                         ...            ...   \n",
              "11115          Jerusalem                      Israel      explosion   \n",
              "11116       Mevo Modi'im                      Israel        gunfire   \n",
              "11118        Banei Ayish                      Israel        gunfire   \n",
              "11119            Kedumim                     Tulkarm        gunfire   \n",
              "11121         Elon Moreh                      Nablus        gunfire   \n",
              "\n",
              "            ammunition                killed_by  \\\n",
              "0      live ammunition  Israeli security forces   \n",
              "1      live ammunition  Israeli security forces   \n",
              "2      live ammunition  Israeli security forces   \n",
              "3      live ammunition  Israeli security forces   \n",
              "4      live ammunition  Israeli security forces   \n",
              "...                ...                      ...   \n",
              "11115         car bomb    Palestinian civilians   \n",
              "11116  live ammunition    Palestinian civilians   \n",
              "11118  live ammunition    Palestinian civilians   \n",
              "11119  live ammunition    Palestinian civilians   \n",
              "11121  live ammunition    Palestinian civilians   \n",
              "\n",
              "                                                   notes  \n",
              "0      Fatally shot by Israeli forces while standing ...  \n",
              "1      Fatally shot by Israeli forces while trying to...  \n",
              "2      Fatally shot by soldiers while firing at them ...  \n",
              "3      Shot in the head by Israeli forces while throw...  \n",
              "4      Wounded by soldiers’ gunfire after running awa...  \n",
              "...                                                  ...  \n",
              "11115  killed in a booby-trapped car near the Mahane ...  \n",
              "11116  Killed while he was guarding a National Insura...  \n",
              "11118               His body was found burnt in his car.  \n",
              "11119                  Killed while hiking on Mt. Eival.  \n",
              "11121     His body was found a day after he disappeared.  \n",
              "\n",
              "[5717 rows x 16 columns]"
            ]
          },
          "execution_count": 30,
          "metadata": {},
          "output_type": "execute_result"
        }
      ],
      "source": [
        "war_fatalities_df_clean"
      ]
    },
    {
      "cell_type": "markdown",
      "metadata": {
        "id": "6VT9_U0hupM5"
      },
      "source": [
        "`name` Variable"
      ]
    },
    {
      "cell_type": "code",
      "execution_count": null,
      "metadata": {
        "colab": {
          "base_uri": "https://localhost:8080/"
        },
        "id": "u3_uUL3Tu3Uz",
        "outputId": "7191aba2-9fcf-4d90-ef0b-2ccf3bc4de05"
      },
      "outputs": [
        {
          "data": {
            "text/plain": [
              "array([\"'Abd a-Rahman Suleiman Muhammad Abu Daghash\",\n",
              "       \"Usayed Farhan Muhammad 'Ali Abu 'Ali\",\n",
              "       \"'Abdallah 'Imad Sa'ed Abu Hassan\", ..., 'Marik Gavrilov',\n",
              "       'Binyamin Herling', 'Hillel Lieberman'], dtype=object)"
            ]
          },
          "execution_count": 31,
          "metadata": {},
          "output_type": "execute_result"
        }
      ],
      "source": [
        "war_fatalities_df_clean['name'].unique()"
      ]
    },
    {
      "cell_type": "markdown",
      "metadata": {
        "id": "NbNBbFkfvFfG"
      },
      "source": [
        "`date_of_event` Variable"
      ]
    },
    {
      "cell_type": "code",
      "execution_count": null,
      "metadata": {
        "colab": {
          "base_uri": "https://localhost:8080/"
        },
        "id": "8IX1s1BFvOII",
        "outputId": "10a2bfa9-56a4-47ef-9121-1dcfa5b04c28"
      },
      "outputs": [
        {
          "data": {
            "text/plain": [
              "array(['2023-09-24', '2023-09-22', '2023-09-20', ..., '2000-10-27',\n",
              "       '2000-10-19', '2000-10-07'], dtype=object)"
            ]
          },
          "execution_count": 32,
          "metadata": {},
          "output_type": "execute_result"
        }
      ],
      "source": [
        "war_fatalities_df_clean['date_of_event'].unique()"
      ]
    },
    {
      "cell_type": "markdown",
      "metadata": {
        "id": "eWtULA7f0-uo"
      },
      "source": [
        "`age` Variable"
      ]
    },
    {
      "cell_type": "code",
      "execution_count": null,
      "metadata": {
        "colab": {
          "base_uri": "https://localhost:8080/"
        },
        "id": "EHIGSllO1Fqp",
        "outputId": "1045af77-5112-4033-9d0e-23e5a76f6ad4"
      },
      "outputs": [
        {
          "data": {
            "text/plain": [
              "array([32., 21., 16., 19., 15., 29., 24., 25., 23., 45., 41., 14., 17.,\n",
              "       40., 28., 60., 26., 22., 42., 18., 20., 33., 34., 39., 27., 64.,\n",
              "       48., 31.,  2., 38., 30., 51., 49., 66., 82., 43., 36.,  8., 52.,\n",
              "       44., 10., 61.,  4., 35., 58., 71., 68., 56., 57., 46., 50., 59.,\n",
              "       54., 63., 12., 13.,  3.,  5., 53., 37., 11.,  9., 62., 79., 84.,\n",
              "       89., 47., 73., 55.,  7.,  6., 65.,  1., 67., 74., 72., 69., 77.,\n",
              "       75., 70., 91., 80., 81., 85., 87., 76., 86., 78., 88.])"
            ]
          },
          "execution_count": 33,
          "metadata": {},
          "output_type": "execute_result"
        }
      ],
      "source": [
        "war_fatalities_df_clean['age'].unique()"
      ]
    },
    {
      "cell_type": "markdown",
      "metadata": {
        "id": "Hyc_2cPt0_nr"
      },
      "source": [
        "`citizenship` Variable"
      ]
    },
    {
      "cell_type": "code",
      "execution_count": null,
      "metadata": {
        "colab": {
          "base_uri": "https://localhost:8080/"
        },
        "id": "Bo3jZNbz1GQ4",
        "outputId": "c744680c-216c-45c4-9f9f-67e7fdd99154"
      },
      "outputs": [
        {
          "data": {
            "text/plain": [
              "array(['Palestinian', 'Israeli', 'Jordanian', 'American'], dtype=object)"
            ]
          },
          "execution_count": 34,
          "metadata": {},
          "output_type": "execute_result"
        }
      ],
      "source": [
        "war_fatalities_df_clean['citizenship'].unique()"
      ]
    },
    {
      "cell_type": "markdown",
      "metadata": {
        "id": "1RS0ccxD1Aus"
      },
      "source": [
        "`event_location` Variable"
      ]
    },
    {
      "cell_type": "code",
      "execution_count": null,
      "metadata": {
        "colab": {
          "base_uri": "https://localhost:8080/"
        },
        "id": "AlWKu-z31GtK",
        "outputId": "a07a956c-cd0f-424a-8623-85250e12fc3f"
      },
      "outputs": [
        {
          "data": {
            "text/plain": [
              "array(['Nur Shams R.C.', 'Kfar Dan', \"'Aqbat Jaber R.C.\", 'Jenin R.C.',\n",
              "       'Gaza City', \"al-'Arrub R.C.\", 'Argaman', \"'Aqqabah\", 'Beit Sira',\n",
              "       'al-Musrarah', 'a-Zababidah', 'Beit Hagai', 'Huwarah', 'Jenin',\n",
              "       'Balata R.C.', 'Tulkarm R.C.', 'Nablus', 'Bir al-Basha',\n",
              "       'Tel Aviv-Yafo', 'Burqah', 'Tulkarm', 'Ofra', \"Ma'ale Adumim\",\n",
              "       'Mitzpe Eshtamoa', \"'Ein Beit al-Maa R.C.\", 'Sabastiya',\n",
              "       'Deir Nizam', 'Um Safa', 'al-Birah', 'Qalandia', \"'Askar R.C.\",\n",
              "       'Turmusaya', 'Eli', 'Tubas', 'Husan', 'Rantis', 'a-Nabi Saleh',\n",
              "       'Hermesh', 'Tene', \"Barta'ah a-Sharqiyah\", 'Khan Yunis', 'Rehovot',\n",
              "       'Bani Suheila', 'a-Nuseirat R.C.', 'Jabalya R.C.', 'Qabatiyah',\n",
              "       \"'Abasan al-Kabirah\", 'Shokat a-Sufi', 'al-Qararah', 'Rafah',\n",
              "       'Tekoa', \"Ari'el\", 'Elon Moreh', \"'Azzun\", 'Hamra', 'Beit Ummar',\n",
              "       'Sarra', 'Havat Dorot Ilit', 'Qalqiliyah', \"Jaba'\",\n",
              "       \"al-Far'ah R.C.\", 'Qarawat Bani Hassan', 'Ramot Alon',\n",
              "       'al-Fawar R.C.', 'Hebron', 'Kedumim', \"Neve Ya'akov\", 'a-Ram',\n",
              "       \"'Anata new (Dahiyat a-Salam)\", 'Silwan', 'a-Duheisheh R.C.',\n",
              "       'Sde Ephraim farm', 'Halhul', 'Silwad', 'al-Fandaqumiyah',\n",
              "       'Qalandia R.C.', \"'Abud\", 'Deir Dobwan', \"Ya'bad\", 'Kafr Ein',\n",
              "       'al-Mughayir', 'Jerusalem', 'Bitunya', \"'Anin\",\n",
              "       \"al-Mazra'ah a-Sharqiyah\", 'Old City (Jerusalem)', 'Beit Duqu',\n",
              "       \"Beit 'Ur al-Foqa\", \"Giv'at Ha'avot\", 'al-Funduq', 'Beit El',\n",
              "       \"al-Mazra'ah al-Qibliyah\", 'Deir al-Hatab', 'al-Jalazun R.C.',\n",
              "       \"al-'Eizariyah\", 'Havat Gilad', \"Modi'in\", 'al-Jalameh',\n",
              "       \"Beit 'Einun\", \"Kafr 'Aqab (Jerusalem)\", 'Beit Hanoun',\n",
              "       'Rafah R.C.', 'Jabalya', 'al-Fukhari', 'Beit Lahiya', 'Iskaka',\n",
              "       'al-Midyah', 'al-Khader', \"Far'on\", 'Elad', 'al-Yamun', 'Beita',\n",
              "       'Ashkelon', \"'Araba\", 'Neve Daniel', 'Bnei Brak', 'Abu Dis',\n",
              "       'Beit Fajjar', 'Gush Etzion', 'Balata', 'Haris', 'Homesh',\n",
              "       \"'Izbat Shufah\", 'Beit Jala', 'Birqin', 'al-Bureij R.C.',\n",
              "       \"Beit 'Anan\", 'Saffa', 'Qusrah', 'Hizma', 'Qalandia (Jerusalem)',\n",
              "       'Um a-Sharayet - Samiramis', 'Ramat Eshkol East/Givat Hamivtar',\n",
              "       'Kiryat Arba', 'Deir al-Balah', 'Juhor a-Dik', \"Khuza'ah\",\n",
              "       'Turah al-Gharbiyah', \"Bil'in\", 'Sheikh Jarrah',\n",
              "       \"'Abasan al-Jadidah (a-Saghirah)\", \"a-Shati' R.C.\", 'Ramat Gan',\n",
              "       'Zeita', 'al-Maghazi R.C.', 'a-Dhahiriyah', 'Shweikah', 'Sinjil',\n",
              "       'Marda', 'Salem', \"'Asirah al-Qibliyah\", 'Yatma',\n",
              "       'Erez (Industrial Zone)', 'al-Qarayah al-Badwiyah al-Maslakh',\n",
              "       'a-Zawaydah', 'Dahmash', 'Sderot', 'Tell', \"Za'tara\",\n",
              "       'Rishon Lezion', 'Odala', 'Bir Nabala', 'Beit Dajan', 'Um a-Rihan',\n",
              "       \"a-Za'ayem\", \"'Einav\", 'Petah Tikva', \"Deir Abu Mash'al\",\n",
              "       'Kifl Hares', 'a-Sawahrah a-Sharqiyah', \"Beit 'Awwa\", \"Ni'lin\",\n",
              "       'Qaffin', 'Dolev', 'Kissufim - Israeli side',\n",
              "       'al-Mughraqa (Abu Midein)', \"'Izbat Beit Hanoun\", 'al-Mawasi',\n",
              "       \"Deir Ibzi'\", 'Elazar', 'Kibbutz Nir Oz', \"al-'Esawiyah\",\n",
              "       'al-Khas', \"Be'erotayim\", 'Kibbutz Erez', 'Ashdod',\n",
              "       'Kibbutz Kerem Shalom', 'Salfit', 'Yafit', \"Kafr Ni'ma\", 'a-Sayfa',\n",
              "       'Talpiot (East)', 'Ramallah', 'Surda', 'Idhna',\n",
              "       'Nahal Oz Checkpoint', 'a-Sureij', 'Tammun', 'Barkan',\n",
              "       'East Jerusalem', 'Adam (Geva Binyamin)', \"'Urif\", 'Jericho',\n",
              "       'Carmei Tzur', 'Jayus', \"'Iraq Burin\", \"'Anata\", 'Har Adar',\n",
              "       'a-Tur', \"Tuqu'\", 'Mevo Dotan', 'Netanya', 'Mor Farm',\n",
              "       \"Kochav Ya'akov\", 'Beit Rima', \"Shu'fat R.C.\", \"'Ein Yabrud\",\n",
              "       \"Bani Na'im\", 'Beit Ula', 'Madama', 'Surif', 'Adorayim',\n",
              "       \"Beit 'Ur a-Tahta\", \"'Anabta\", 'Bidu', \"Sa'ir\", \"'Ein 'Arik\",\n",
              "       'a-Zawiya', \"al-'Araqah\", \"Khallet a-Nu'man\", 'Kafr Jammal',\n",
              "       'Bet Horon', 'Almon', 'Otniel', \"'Asirah a-Shamaliyah\",\n",
              "       \"Ras al-'Amud\", 'Kfar Adumim', 'Qatanah', 'Budrus', 'Bet Shemesh',\n",
              "       'Beit Furik', 'Bethlehem', \"Pisgat Ze'ev\", 'Kiryat Gat',\n",
              "       \"'Aydah R.C.\", 'Kharbatha al-Misbah', 'Bir Zeit', 'Shvut Rachel',\n",
              "       'Burin', 'Abu Tur', 'Beit Liqya', \"al-Am'ari R.C.\", 'Wadi al-Joz',\n",
              "       'Kibbutz Nirim', \"Kh. al-'Adas\", 'Kibbutz Nahal Oz', 'Qabalan',\n",
              "       'Psagot', 'a-Shaburah (R.C)', 'Khan Yunis R.C.',\n",
              "       'Um a-Naser (al-Bayuk)', 'Deir al-Balah R.C.', 'Egyptian Border',\n",
              "       'Gaza Strip', 'Qizan a-Najar', 'Wadi a-Salqa', 'Wadi Jraba',\n",
              "       \"a-Samu'\", 'Dura', 'Alon Shvut', \"Deir al-'Asal al-Foqa\", 'Beitin',\n",
              "       \"'Ein Siniya\", 'al-Karmel', 'Yatta', 'Eshkol Regional Council',\n",
              "       'Tapuah Junction', 'a-Ramadin', 'Deir Sharaf', 'Sdei Avraham',\n",
              "       'Kiryat Malachi', 'al-Musadar', 'Rammun', 'Tall a-Sultan R.C.',\n",
              "       'Beersheba', 'Kfar Aza', 'Itamar', 'Safa', 'The Perimeter Fence',\n",
              "       \"'Awarta\", 'Kissufim', 'Kissufim Checkpoint', \"al-'Atatrah\",\n",
              "       'a-Sater R.C.', 'Netivot', 'Sufah Checkpoint', 'Karni Checkpoint',\n",
              "       'Dimona', 'Bat Ayin', 'Tel Aviv', 'Hadera', \"Kafr Ra'i\", 'Tapuah',\n",
              "       \"Netiv Ha'asara\", 'al-Matahen Abu Holi Border', 'Rafah Crossing',\n",
              "       'Morag', 'Moshav Nehusha', 'Gan Or', 'Saida', 'Neve Deqalim',\n",
              "       'Alei Sinai', 'Hajjah', 'Gush Katif', 'Rafiah Yam', 'Netzarim',\n",
              "       'Lahav', 'Kadim', 'Immatin', \"'Atarot\", 'Ramin', 'Nissanit',\n",
              "       'Haifa', \"Rosh Ha'ayin\", \"Kfar Ya'bez\", 'Ganei Tal', 'Sde Trumot',\n",
              "       'Afula', \"French Hill (Giv'at Shapira)\", 'Kfar Sava',\n",
              "       'Netzer Hazani', 'Pardes Hana-Karkur', 'Dugit', 'Yevul',\n",
              "       'Meron Intersection', 'Immanuel', 'Herzliya',\n",
              "       'Megiddo Intersection', \"Wadi 'Ara Road\", 'Aviezer',\n",
              "       'Netzarim Junction', 'Zur Baher', 'Karnei Shomron', 'Ramle',\n",
              "       'Beit Sahur', 'Kibbutz Sheluchot', 'Maor', 'Mehola', 'Nahariya',\n",
              "       'Jit', 'Kh. Jubara', \"Ma'ale Mikhmas\", 'Neve Yemin Intersection',\n",
              "       'Me Ammi Intersection', 'DCO Gush Katif', 'Kfar Darom'],\n",
              "      dtype=object)"
            ]
          },
          "execution_count": 35,
          "metadata": {},
          "output_type": "execute_result"
        }
      ],
      "source": [
        "war_fatalities_df_clean['event_location'].unique()\n"
      ]
    },
    {
      "cell_type": "code",
      "execution_count": null,
      "metadata": {
        "colab": {
          "base_uri": "https://localhost:8080/"
        },
        "id": "RJ_voVPt-ZVR",
        "outputId": "5b1f52f0-a503-47ac-c9c7-06b522a49ba0"
      },
      "outputs": [
        {
          "name": "stdout",
          "output_type": "stream",
          "text": [
            "Total unique locations in 'event_location' column: 356\n"
          ]
        }
      ],
      "source": [
        "unique_locations_count = war_fatalities_df_clean['event_location'].nunique()\n",
        "print(f\"Total unique locations in 'event_location' column: {unique_locations_count}\")"
      ]
    },
    {
      "cell_type": "markdown",
      "metadata": {
        "id": "zhi_c5gb1CCL"
      },
      "source": [
        "`event_location_region` Variable"
      ]
    },
    {
      "cell_type": "code",
      "execution_count": null,
      "metadata": {
        "colab": {
          "base_uri": "https://localhost:8080/"
        },
        "id": "rX9SKs1U1HWD",
        "outputId": "387856db-33f0-4db5-b2ad-7f508aa99fc1"
      },
      "outputs": [
        {
          "data": {
            "text/plain": [
              "array(['West Bank', 'Gaza Strip', 'Israel'], dtype=object)"
            ]
          },
          "execution_count": 37,
          "metadata": {},
          "output_type": "execute_result"
        }
      ],
      "source": [
        "war_fatalities_df_clean['event_location_region'].unique()"
      ]
    },
    {
      "cell_type": "markdown",
      "metadata": {
        "id": "0AwJLw1P1CNG"
      },
      "source": [
        "`event_location_district` Variable"
      ]
    },
    {
      "cell_type": "code",
      "execution_count": null,
      "metadata": {
        "colab": {
          "base_uri": "https://localhost:8080/"
        },
        "id": "DPHfNJzz1IYQ",
        "outputId": "113c128c-d5f0-489a-a9c6-801ec6b1d396"
      },
      "outputs": [
        {
          "data": {
            "text/plain": [
              "array(['Tulkarm', 'Jenin', 'Jericho', 'Gaza', 'Hebron', 'Tubas',\n",
              "       'Ramallah and al-Bira', 'East Jerusalem', 'Nablus', 'Israel',\n",
              "       'al-Quds', 'Bethlehem', 'Khan Yunis', 'Deir al-Balah',\n",
              "       'North Gaza', 'Rafah', 'Qalqiliya', 'Salfit', 'Gaza Strip',\n",
              "       'Gush Katif'], dtype=object)"
            ]
          },
          "execution_count": 38,
          "metadata": {},
          "output_type": "execute_result"
        }
      ],
      "source": [
        "war_fatalities_df_clean['event_location_district'].unique()"
      ]
    },
    {
      "cell_type": "markdown",
      "metadata": {
        "id": "x6l0lmmb1Cqi"
      },
      "source": [
        "`date_of_death` Variable"
      ]
    },
    {
      "cell_type": "code",
      "execution_count": null,
      "metadata": {
        "colab": {
          "base_uri": "https://localhost:8080/"
        },
        "id": "e8lgCUUa1I6c",
        "outputId": "7522a9d4-5956-4fa3-f46a-3a13f8897658"
      },
      "outputs": [
        {
          "data": {
            "text/plain": [
              "array(['2023-09-24', '2023-09-22', '2023-09-20', ..., '2000-10-27',\n",
              "       '2000-10-19', '2000-10-07'], dtype=object)"
            ]
          },
          "execution_count": 39,
          "metadata": {},
          "output_type": "execute_result"
        }
      ],
      "source": [
        "war_fatalities_df_clean['date_of_death'].unique()"
      ]
    },
    {
      "cell_type": "markdown",
      "metadata": {
        "id": "-sDyMWza1C2S"
      },
      "source": [
        "`place_of_residence` Variable"
      ]
    },
    {
      "cell_type": "code",
      "execution_count": null,
      "metadata": {
        "colab": {
          "base_uri": "https://localhost:8080/"
        },
        "id": "AyvhoG3p1Ju-",
        "outputId": "b527c644-4cff-401c-9f9f-c33e2d6ee878"
      },
      "outputs": [
        {
          "data": {
            "text/plain": [
              "array(['Nur Shams R.C.', 'al-Yamun', \"'Aqbat Jaber R.C.\", 'Jenin',\n",
              "       'Khan Yunis', 'Jenin R.C.', \"al-'Arrub Camp\", 'a-Zbeidat',\n",
              "       'Aqqaba', 'Deir Ammar Camp', 'Beit Hanina', 'a-Zababida',\n",
              "       'Beit Hagai', 'Ashdod', 'Balata R.C.', 'Jericho', 'Tulkarm',\n",
              "       'Ein Beit al-Maa R.C.', 'Jalqamus', 'Rummana', 'Bat Yam', 'Burka',\n",
              "       'Silwad', \"al-'Eizariyah\", \"a-Samu'\", 'Nablus', 'Sabastiya',\n",
              "       'Shuqba', 'Arura', 'Meithalun', 'Fahma', 'Ramallah', \"Jaba'\",\n",
              "       \"Kafr 'Aqab (Jerusalem)\", 'Askar R.C.', 'Turmusaya', 'Ahiya',\n",
              "       'Urif', 'Yad Binyamin', 'Eli', 'Tubas', 'Husan', 'Wadi Burqin',\n",
              "       'a-Nabi Saleh', 'Hermesh', 'a-Dhahiriyah', \"'Askar R.C. (New)\",\n",
              "       \"a-Shati' Camp\", 'Rafah', 'Rehovot', 'Bani Suheila',\n",
              "       'a-Nuseirat Camp', 'Jabalya R.C.', 'Gaza city', 'Abasan al-Kabira',\n",
              "       'Qabatiyah', 'Tulkarm R.C.', 'Huwara', 'Tekoa', 'Bidya',\n",
              "       \"Shu'fat R.C.\", 'Azzun', 'Efrat', 'Surif', 'Qaffin', 'Sanniriya',\n",
              "       'Qalqiliya', 'Tel Aviv-Yafo', \"Ni'lin\", 'Birqin', 'Har Bracha',\n",
              "       \"al-Far'a Camp\", \"al-'Araqah\", 'Qarawat Bani Hassan',\n",
              "       \"al-'Esawiyah\", 'al-Judeidah', 'Hebron', 'Qusin', \"Ras al-'Amud\",\n",
              "       \"Pisgat Ze'ev\", 'Bet Shemesh', \"Neve Ya'akov\", 'Jerusalem',\n",
              "       'a-Ram', 'Silwan', 'a-Duheisheh R.C.', \"Kafr Ni'ma\", 'Halhul',\n",
              "       'Rammun', 'Qalandiya Camp', 'Kfar Dan', 'Beit Rima', 'Osarin',\n",
              "       \"Ya'bad\", 'al-Mughayir', 'Beit Ummar', 'Haris', 'Yavne',\n",
              "       'al-Birah', 'Sanur', \"al-Mazra'a a-Sharqiya\", 'Beit Duqu',\n",
              "       'Kiryat Arba', 'Petah Tikva', \"'Anata new (Dahiyat a-Salam)\",\n",
              "       'Deir Jarir', \"al-Mazra'ah al-Qibliyah\", 'Bir Zeit',\n",
              "       'al-Jalazun R.C.', 'Anza', 'Bitunya', 'Beit Ijza', 'a-Tur',\n",
              "       'Beit Hanun', 'Rafah R.C.', 'Jabalya', 'al-Fukhari', 'Beit Lahiya',\n",
              "       'Awarta', 'Iskaka', 'Sarra', 'al-Midya', \"Shuyukh al-'Arrub\",\n",
              "       'al-Khader', 'Um a-Sharayet - Samiramis', 'Harmala', 'Lod',\n",
              "       \"Ari'el\", \"'Ein a-Sultan R.C.\", 'Misiliya', 'Beita', 'Kafr Laqif',\n",
              "       \"Faqqu'a\", \"Giv'at Shmuel\", 'Tarqumya', 'Bnei Baraq', 'Abu Tur',\n",
              "       'Abu Dis', 'Burqa', 'Kafr Ein', \"Sa'ir\", \"al-Am'ari R.C.\",\n",
              "       'Merkah', 'Shavei Shomron', 'Salfit', \"Modi'in\", 'Tammun',\n",
              "       'Beit Jala', 'Silat al-Harithiya', 'al-Bureij R.C.', 'Bidu',\n",
              "       \"Shu'fat\", \"Beit 'Ur a-Tahta\", 'Qusrah', 'Aqbat Jaber Camp',\n",
              "       \"al-'Atatrah\", 'Deir al-Balah', \"Khuza'a\", \"Beit 'Anan\", 'Um Dar',\n",
              "       \"Bil'in\", 'Ramat Gan', 'Saida', 'al-Maghazi R.C.', \"'Ebwein\",\n",
              "       'Marda', 'Ein a-Duyuk al-Foqa', 'Salem', 'Asira al-Qibliya',\n",
              "       'Yatma', 'al-Qarayah al-Badwiyah al-Maslakh', 'a-Zawaydah',\n",
              "       'Dahmash', 'Sderot', 'al-Fawwar Camp', 'al-Lubban a-Sharqiyah',\n",
              "       'Rishon Lezion', 'Ashkelon', 'Shweikah', 'Odala', 'Wadi Fukin',\n",
              "       'Beit Dajan', 'Ras Karkar', 'Tal Menashe', \"'Eraq a-Tayeh\",\n",
              "       'Beit Lid', \"Deir Abu Mash'al\", 'a-Sawahrah a-Sharqiyah',\n",
              "       'Kifl haris', 'Wadi al-Joz', 'Abu Qash', 'Deir Samit',\n",
              "       'Jabal al-Mukabber', \"Beit 'Awwa\", \"'Izbat Beit Hanoun\",\n",
              "       'al-Mawasi', 'Kafr Zibad', 'kh. Abu Nujeim', 'al-Musadar', 'Attil',\n",
              "       'Swawin', 'Kfar Sava', 'Kh. Qeis', 'al-Mughraqa (Abu Midein)',\n",
              "       'Fasayil', 'Kharbatha al-Misbah', 'Beit Sira', 'Khan Yunis R.C.',\n",
              "       'al-Jalameh', 'a-Shaburah (R.C)', 'Rujeib', 'Talpiot (East)',\n",
              "       'Deir al-Balah Camp', 'Kobar', 'Idhna', \"Kh. al-'Adas\",\n",
              "       'Wadi a-Salqa', 'Abasan al-Jadida (a-Saghira)', \"Rosh Ha'ayin\",\n",
              "       'Adam (Geva Binyamin)', 'Ein Siniya', 'Tall a-Sultan Camp',\n",
              "       'al-Qararah', 'Aqraba', 'Jayus', 'Iraq Burin', 'Havat Gilad',\n",
              "       'Deir Nizam', 'Anata', 'Deir Ballut', 'Har Adar', 'Abu Gosh',\n",
              "       'Illar', \"Marah Ma'alla\", 'Hizma', \"Tuqu'\", 'Bir Nabala',\n",
              "       \"al-'Ubeidiyah\", 'Qarawat Bani Zeid', 'Ras Khamis', 'al-Walajah',\n",
              "       'Beit Surik', 'Beit Wazan', 'Asira a-Shamaliya', \"Bani Na'im\",\n",
              "       'Tel Rumeidah', 'Beit Ula', 'Dahiyat al-Bareed', \"Otni'el\",\n",
              "       'Balata', 'Qatanna', 'Beit Fajjar', \"al-Baq'ah\", 'Masha',\n",
              "       'Um Tuba', 'Hajja', 'a-Zawiya', 'Qaryut', 'Qalandiya',\n",
              "       'Deir Dobwan', 'Qubeiba', 'Kafr Jammal', \"Jamma'in\",\n",
              "       'Shademot Mehola', 'Raba', 'Yatta', 'Kafr a-Dik', \"Kiryat Ye'arim\",\n",
              "       'Sinjil', 'Beit Furik', \"A'bud\", 'a-Doha', \"'Ammuriyah\", 'Safed',\n",
              "       'Ramle', 'Holon', 'Alon Shvut', 'Budrus', 'Deir Ghasana',\n",
              "       'al-Muwarraq', 'Old City (Jerusalem)', \"'Aydah R.C.\", \"Bal'a\",\n",
              "       'Surda', 'Nerya', \"Kafr Ra'i\", 'Brukin', 'Kochav Hashachar',\n",
              "       \"al-A'uja\", 'Burin', 'Beit Liqya', 'Kibbutz Nirim',\n",
              "       'Kibbutz Nahal Oz', 'Kabalan', 'Shokat a-Sufi', 'Yabna R.C.',\n",
              "       'Deir al-Ghusun', 'Rafat', \"Qa' al-Qurein\", 'Savyon', 'Ginosar',\n",
              "       'Kfar Vradim', 'Um a-Naser (al-Bayuk)', 'Meitar', 'Qizan a-Najar',\n",
              "       'Ginegar', 'Eilat', 'Evron', 'Alonei Habashan', 'Bet Shean',\n",
              "       'Nir Etzion', 'Beit Elazari', 'a-Zahraa', 'Moshav Nov',\n",
              "       'Atzmon Segev', 'Kibbutz Merav', 'Kiryat Ono', \"Ra'anana\",\n",
              "       'Beersheba', 'Pardesiya', 'Hoshaya', 'Poria Illit', 'Wadi Jraba',\n",
              "       'Ramat Yishai', 'Bet Arye', 'Juhor a-Dik', 'Dura', 'Elad',\n",
              "       'Nof Ayalon', 'Talmon', \"Deir al-'Asal al-Foqa\", 'Beitin', 'Rahat',\n",
              "       'Beit Hanina al-Balad', 'Yitzhar', 'Anabta', 'Atarot', 'Bethlehem',\n",
              "       \"al-'Aza Camp\", \"al-'Araqib\", 'Kiryat Malachi', 'Beitillu',\n",
              "       'Ramat Beit Shemesh', 'Mevo Horon', 'Itamar', \"Kafr 'Aqab\",\n",
              "       \"Giv'at Ze'ev\", 'Aroer', 'Netivot', 'Kibbutz Gevaram', 'Kfar Aza',\n",
              "       'Dimona', 'Hod Hasharon', 'Bat Ayin', \"Giv'atayim\", 'Tel Aviv',\n",
              "       'Oranit', 'Kedumim', 'Herzliya', 'Netanya', 'Nahariya',\n",
              "       'Bat Hefer', 'Hadera', 'Moshav Ahituv', 'Baqa al-Gharbiyah',\n",
              "       'Tapuah', 'Kibbutz Bror Hayil', 'Mishmar Hayarden', 'Gan Yavne',\n",
              "       'Ganei Tal', 'Nissanit', 'Moshav Nehusha', 'Kiryat Gat', 'Jaffa',\n",
              "       'Tiberias', 'The Upper Galile', 'Or Yehuda', \"Far'on\",\n",
              "       'Livne (Shani)', 'Mevaseret Zion', 'Beitar Illit', 'Shoham',\n",
              "       'Ramin', 'Haifa', 'Fassouta', 'Kibbutz Yagur', 'Kiryat Bialik',\n",
              "       \"Zichron Ya'akov\", 'Nofim', 'Elon Moreh', 'al-Jib', \"Kfar Ya'bez\",\n",
              "       'Kibbutz Reshafim', 'Sde Trumot', 'Kiryat Ata', 'Tzur Hadassah',\n",
              "       'Afula', 'Jisr a-Zarka', 'East Jerusalem', 'Daliat al-Carmel',\n",
              "       'Elkana', 'Azor', 'Kiryat Shalom', 'Bet Zarzir', 'Taybeh',\n",
              "       'Nir Galim', 'a-Shuyukh', 'Sajur', 'Sifsufa', 'Carmiel',\n",
              "       'Immanuel', 'Migdal Haemek', \"Ma'ale Adumim\", 'Shilo', 'Ofra',\n",
              "       \"Barta'a al-Gharbiyah\", 'Nahalat Yehuda', 'Nes Ziona',\n",
              "       'Kiryat Yam', 'Deir Sharaf', 'Pardes Hanna-Karkur', \"Tur'an\",\n",
              "       'Ramat Hasharon', \"Herev La'et\", \"Beka'ot\", 'Kharas', 'Julis',\n",
              "       'Beit Sahur', 'Nazareth Illit', 'Adora', 'Ginot Shomron',\n",
              "       'Karnei Shomron', 'Shlomi', 'Katzrin', 'Kibbutz Kfar Hanasi',\n",
              "       'Araba', \"Yokne'am\", 'Givon Hahadasha', 'Talluza',\n",
              "       'Kibbutz Sheluchot', 'Alei Sinai', 'Maor', 'Kibbutz Sde Eliahu',\n",
              "       'Nokdim', 'Ofarim', 'Kfar Haim', 'Rimmonim', 'Tel Mond',\n",
              "       'Carmei Tzur', 'Ben Shemen', \"Giv'at Olga\", 'Netzer Hazani',\n",
              "       'Kfar Darom', 'Halamish', 'Mivtahim', \"Ma'ale Mikhmas\",\n",
              "       \"Mevo Modi'im\", 'Banei Ayish'], dtype=object)"
            ]
          },
          "execution_count": 40,
          "metadata": {},
          "output_type": "execute_result"
        }
      ],
      "source": [
        "war_fatalities_df_clean['place_of_residence'].unique()"
      ]
    },
    {
      "cell_type": "markdown",
      "metadata": {
        "id": "8Nzx2INv1DAg"
      },
      "source": [
        "`place_of_residence_district` Variable"
      ]
    },
    {
      "cell_type": "code",
      "execution_count": null,
      "metadata": {
        "colab": {
          "base_uri": "https://localhost:8080/"
        },
        "id": "xxkt7EcN1KeG",
        "outputId": "7ed293ee-2de8-4735-beb8-7dfe5eeada36"
      },
      "outputs": [
        {
          "data": {
            "text/plain": [
              "array(['Tulkarm', 'Jenin', 'Jericho', 'Khan Yunis', 'Hebron', 'Tubas',\n",
              "       'Ramallah and al-Bira', 'East Jerusalem', 'Israel', 'Nablus',\n",
              "       'al-Quds', 'Bethlehem', 'Gaza', 'Rafah', 'Deir al-Balah',\n",
              "       'North Gaza', 'Salfit', 'Qalqiliya', 'Gush Katif', 'West Bank'],\n",
              "      dtype=object)"
            ]
          },
          "execution_count": 41,
          "metadata": {},
          "output_type": "execute_result"
        }
      ],
      "source": [
        "war_fatalities_df_clean['place_of_residence_district'].unique()"
      ]
    },
    {
      "cell_type": "markdown",
      "metadata": {
        "id": "Gi572Ync1Dgy"
      },
      "source": [
        "`type_of_injury` Variable"
      ]
    },
    {
      "cell_type": "code",
      "execution_count": null,
      "metadata": {
        "colab": {
          "base_uri": "https://localhost:8080/"
        },
        "id": "YSQ944H91LV4",
        "outputId": "d4eb318c-a784-4844-c73e-e3adc9b09805"
      },
      "outputs": [
        {
          "data": {
            "text/plain": [
              "array(['gunfire', 'stabbing', 'explosion', 'shelling',\n",
              "       'physically assaulted', 'house demolition'], dtype=object)"
            ]
          },
          "execution_count": 42,
          "metadata": {},
          "output_type": "execute_result"
        }
      ],
      "source": [
        "war_fatalities_df_clean['type_of_injury'].unique()"
      ]
    },
    {
      "cell_type": "markdown",
      "metadata": {
        "id": "-YCjRnzO1Dok"
      },
      "source": [
        "`ammunition` Variable"
      ]
    },
    {
      "cell_type": "code",
      "execution_count": null,
      "metadata": {
        "colab": {
          "base_uri": "https://localhost:8080/"
        },
        "id": "Bu0DFt3A1L21",
        "outputId": "b97a854f-41f8-40fb-dacb-2d9d9c8c3795"
      },
      "outputs": [
        {
          "data": {
            "text/plain": [
              "array(['live ammunition', 'missile', 'rocket', '0.22-caliber bullets',\n",
              "       'bomb', 'knife', 'shell', 'rock', 'rubber-coated metal bullets',\n",
              "       'stun grenade', 'teargas canister', 'flare bomb', 'sponge rounds',\n",
              "       'mortar fire', 'grad rocket', 'flechette shells',\n",
              "       'phosphorus shell', 'Qassam rocket', 'explosive belt', 'grenade',\n",
              "       'car bomb'], dtype=object)"
            ]
          },
          "execution_count": 43,
          "metadata": {},
          "output_type": "execute_result"
        }
      ],
      "source": [
        "war_fatalities_df_clean['ammunition'].unique()"
      ]
    },
    {
      "cell_type": "markdown",
      "metadata": {
        "id": "nOx7PmDs1Dwn"
      },
      "source": [
        "`killed_by` Variable"
      ]
    },
    {
      "cell_type": "code",
      "execution_count": null,
      "metadata": {
        "colab": {
          "base_uri": "https://localhost:8080/"
        },
        "id": "szQGrWrm1MZj",
        "outputId": "f31faa40-6a63-4b6d-83cc-b900723470a4"
      },
      "outputs": [
        {
          "data": {
            "text/plain": [
              "array(['Israeli security forces', 'Palestinian civilians',\n",
              "       'Israeli civilians'], dtype=object)"
            ]
          },
          "execution_count": 44,
          "metadata": {},
          "output_type": "execute_result"
        }
      ],
      "source": [
        "war_fatalities_df_clean['killed_by'].unique()"
      ]
    },
    {
      "cell_type": "markdown",
      "metadata": {
        "id": "AJ2oX53tQL1d"
      },
      "source": [
        "the `date_of_event` column in the dataset will be converted into a datetime object so that information can be extracted such as the year and month of the incident. While `date_of_death` is also a date column most analysis regarding datetime information will come from `date_of_event` which is why it is the only column transformed into a datetime\n",
        "\n"
      ]
    },
    {
      "cell_type": "code",
      "execution_count": null,
      "metadata": {
        "id": "Zxpw3HB9QM6_"
      },
      "outputs": [],
      "source": [
        "war_fatalities_df_clean['date_of_event'] = pd.to_datetime(war_fatalities_df['date_of_event'])"
      ]
    },
    {
      "cell_type": "markdown",
      "metadata": {
        "id": "Ln6ktTcB6k49"
      },
      "source": [
        "We copy back the clean dateset to the original dataset."
      ]
    },
    {
      "cell_type": "code",
      "execution_count": null,
      "metadata": {
        "id": "IMdn8SJ46kMw"
      },
      "outputs": [],
      "source": [
        "war_fatalities_df = war_fatalities_df_clean"
      ]
    },
    {
      "cell_type": "markdown",
      "metadata": {
        "id": "q_ScSghy0Pzn"
      },
      "source": [
        "# Feature Extraction"
      ]
    },
    {
      "cell_type": "markdown",
      "metadata": {
        "id": "o_uQT7vAIzEn"
      },
      "source": [
        "To help perform aggregations involving time better, the year and month component of the `date_of_event` column is extracted into the columns `year_of_event` and `month_of_event`   "
      ]
    },
    {
      "cell_type": "code",
      "execution_count": null,
      "metadata": {
        "id": "zuTDNqioRLQM"
      },
      "outputs": [],
      "source": [
        "war_fatalities_df['year_of_event'] = war_fatalities_df['date_of_event'].dt.year\n",
        "war_fatalities_df['month_of_event'] = war_fatalities_df['date_of_event'].dt.month"
      ]
    },
    {
      "cell_type": "markdown",
      "metadata": {
        "id": "k9Sxgu6ISuqt"
      },
      "source": [
        "The `ammunition` feature has a lot of categorical values. Hence, it is further categorized into three categories such as *Explosive Devices*, *Projectiles/Weapons*, and *Non-Explosive Weaponry*"
      ]
    },
    {
      "cell_type": "code",
      "execution_count": null,
      "metadata": {
        "colab": {
          "base_uri": "https://localhost:8080/",
          "height": 424
        },
        "id": "o49PkblNfAAo",
        "outputId": "bde2daaa-b049-4c8d-c7f2-245f77a723f5"
      },
      "outputs": [
        {
          "data": {
            "text/html": [
              "<div>\n",
              "<style scoped>\n",
              "    .dataframe tbody tr th:only-of-type {\n",
              "        vertical-align: middle;\n",
              "    }\n",
              "\n",
              "    .dataframe tbody tr th {\n",
              "        vertical-align: top;\n",
              "    }\n",
              "\n",
              "    .dataframe thead th {\n",
              "        text-align: right;\n",
              "    }\n",
              "</style>\n",
              "<table border=\"1\" class=\"dataframe\">\n",
              "  <thead>\n",
              "    <tr style=\"text-align: right;\">\n",
              "      <th></th>\n",
              "      <th>ammunition_category</th>\n",
              "      <th>ammunition</th>\n",
              "    </tr>\n",
              "  </thead>\n",
              "  <tbody>\n",
              "    <tr>\n",
              "      <th>0</th>\n",
              "      <td>Projectiles/Weapons</td>\n",
              "      <td>live ammunition</td>\n",
              "    </tr>\n",
              "    <tr>\n",
              "      <th>1</th>\n",
              "      <td>Projectiles/Weapons</td>\n",
              "      <td>live ammunition</td>\n",
              "    </tr>\n",
              "    <tr>\n",
              "      <th>2</th>\n",
              "      <td>Projectiles/Weapons</td>\n",
              "      <td>live ammunition</td>\n",
              "    </tr>\n",
              "    <tr>\n",
              "      <th>3</th>\n",
              "      <td>Projectiles/Weapons</td>\n",
              "      <td>live ammunition</td>\n",
              "    </tr>\n",
              "    <tr>\n",
              "      <th>4</th>\n",
              "      <td>Projectiles/Weapons</td>\n",
              "      <td>live ammunition</td>\n",
              "    </tr>\n",
              "    <tr>\n",
              "      <th>...</th>\n",
              "      <td>...</td>\n",
              "      <td>...</td>\n",
              "    </tr>\n",
              "    <tr>\n",
              "      <th>11115</th>\n",
              "      <td>Explosive Devices</td>\n",
              "      <td>car bomb</td>\n",
              "    </tr>\n",
              "    <tr>\n",
              "      <th>11116</th>\n",
              "      <td>Projectiles/Weapons</td>\n",
              "      <td>live ammunition</td>\n",
              "    </tr>\n",
              "    <tr>\n",
              "      <th>11118</th>\n",
              "      <td>Projectiles/Weapons</td>\n",
              "      <td>live ammunition</td>\n",
              "    </tr>\n",
              "    <tr>\n",
              "      <th>11119</th>\n",
              "      <td>Projectiles/Weapons</td>\n",
              "      <td>live ammunition</td>\n",
              "    </tr>\n",
              "    <tr>\n",
              "      <th>11121</th>\n",
              "      <td>Projectiles/Weapons</td>\n",
              "      <td>live ammunition</td>\n",
              "    </tr>\n",
              "  </tbody>\n",
              "</table>\n",
              "<p>5717 rows × 2 columns</p>\n",
              "</div>"
            ],
            "text/plain": [
              "       ammunition_category       ammunition\n",
              "0      Projectiles/Weapons  live ammunition\n",
              "1      Projectiles/Weapons  live ammunition\n",
              "2      Projectiles/Weapons  live ammunition\n",
              "3      Projectiles/Weapons  live ammunition\n",
              "4      Projectiles/Weapons  live ammunition\n",
              "...                    ...              ...\n",
              "11115    Explosive Devices         car bomb\n",
              "11116  Projectiles/Weapons  live ammunition\n",
              "11118  Projectiles/Weapons  live ammunition\n",
              "11119  Projectiles/Weapons  live ammunition\n",
              "11121  Projectiles/Weapons  live ammunition\n",
              "\n",
              "[5717 rows x 2 columns]"
            ]
          },
          "execution_count": 48,
          "metadata": {},
          "output_type": "execute_result"
        }
      ],
      "source": [
        "categories = {\n",
        "    'Explosive Devices': ['missile', 'rocket', 'bomb', 'mortar fire', 'grad rocket', 'Qassam rocket',\n",
        "                          'flare bomb', 'car bomb', 'explosive belt', 'phosphorus shell', 'grenade'],\n",
        "    'Projectiles/Weapons': ['live ammunition', '0.22-caliber bullets', 'rubber-coated metal bullets',\n",
        "                            'sponge rounds', 'flechette shells'],\n",
        "    'Non-Explosive Weaponry': ['knife', 'rock', 'stun grenade', 'teargas canister']\n",
        "}\n",
        "\n",
        "ammunition_category = {item: category for category, items in categories.items() for item in items}\n",
        "\n",
        "war_fatalities_df['ammunition_category'] = war_fatalities_df['ammunition'].map(ammunition_category)\n",
        "\n",
        "war_fatalities_df[['ammunition_category', 'ammunition']]"
      ]
    },
    {
      "cell_type": "markdown",
      "metadata": {
        "id": "8LOFWEuLFCZe"
      },
      "source": [
        "# Data Visualization & Analysis"
      ]
    },
    {
      "cell_type": "markdown",
      "metadata": {
        "id": "cHbTWx-aYxJH"
      },
      "source": [
        "## Population Analysis"
      ]
    },
    {
      "cell_type": "markdown",
      "metadata": {
        "id": "z5hoNfDDlvO0"
      },
      "source": [
        "### Exploring the relationship between Citizenship and Killed By"
      ]
    },
    {
      "cell_type": "code",
      "execution_count": null,
      "metadata": {
        "colab": {
          "base_uri": "https://localhost:8080/",
          "height": 175
        },
        "id": "OALOMxowgvzN",
        "outputId": "9d4933a0-88c2-48c3-e149-c784ee19970d"
      },
      "outputs": [
        {
          "data": {
            "text/html": [
              "<div>\n",
              "<style scoped>\n",
              "    .dataframe tbody tr th:only-of-type {\n",
              "        vertical-align: middle;\n",
              "    }\n",
              "\n",
              "    .dataframe tbody tr th {\n",
              "        vertical-align: top;\n",
              "    }\n",
              "\n",
              "    .dataframe thead th {\n",
              "        text-align: right;\n",
              "    }\n",
              "</style>\n",
              "<table border=\"1\" class=\"dataframe\">\n",
              "  <thead>\n",
              "    <tr style=\"text-align: right;\">\n",
              "      <th>citizenship</th>\n",
              "      <th>American</th>\n",
              "      <th>Israeli</th>\n",
              "      <th>Jordanian</th>\n",
              "      <th>Palestinian</th>\n",
              "    </tr>\n",
              "    <tr>\n",
              "      <th>killed_by</th>\n",
              "      <th></th>\n",
              "      <th></th>\n",
              "      <th></th>\n",
              "      <th></th>\n",
              "    </tr>\n",
              "  </thead>\n",
              "  <tbody>\n",
              "    <tr>\n",
              "      <th>Israeli civilians</th>\n",
              "      <td>0</td>\n",
              "      <td>0</td>\n",
              "      <td>0</td>\n",
              "      <td>48</td>\n",
              "    </tr>\n",
              "    <tr>\n",
              "      <th>Israeli security forces</th>\n",
              "      <td>1</td>\n",
              "      <td>0</td>\n",
              "      <td>1</td>\n",
              "      <td>4987</td>\n",
              "    </tr>\n",
              "    <tr>\n",
              "      <th>Palestinian civilians</th>\n",
              "      <td>0</td>\n",
              "      <td>680</td>\n",
              "      <td>0</td>\n",
              "      <td>0</td>\n",
              "    </tr>\n",
              "  </tbody>\n",
              "</table>\n",
              "</div>"
            ],
            "text/plain": [
              "citizenship              American  Israeli  Jordanian  Palestinian\n",
              "killed_by                                                         \n",
              "Israeli civilians               0        0          0           48\n",
              "Israeli security forces         1        0          1         4987\n",
              "Palestinian civilians           0      680          0            0"
            ]
          },
          "execution_count": 49,
          "metadata": {},
          "output_type": "execute_result"
        }
      ],
      "source": [
        "citizenship_killedby_contingency_table = pd.crosstab(war_fatalities_df['killed_by'], war_fatalities_df['citizenship'])\n",
        "citizenship_killedby_df = pd.DataFrame(citizenship_killedby_contingency_table)\n",
        "citizenship_killedby_df"
      ]
    },
    {
      "cell_type": "code",
      "execution_count": null,
      "metadata": {
        "colab": {
          "base_uri": "https://localhost:8080/",
          "height": 564
        },
        "id": "g1djMgFLly-m",
        "outputId": "c78feb35-1b56-4ebf-c7a0-e25bf6a390a9"
      },
      "outputs": [
        {
          "data": {
            "image/png": "[encoded data removed]",
            "text/plain": [
              "<Figure size 800x600 with 2 Axes>"
            ]
          },
          "metadata": {},
          "output_type": "display_data"
        }
      ],
      "source": [
        "plt.figure(figsize=(8, 6))\n",
        "sns.heatmap(citizenship_killedby_contingency_table, annot=True, fmt='d', cmap='coolwarm')\n",
        "plt.title('Frequency of Killed By - Citizenship')\n",
        "plt.xlabel('Citizenship')\n",
        "plt.ylabel('Killed By')\n",
        "plt.show()"
      ]
    },
    {
      "cell_type": "code",
      "execution_count": null,
      "metadata": {
        "colab": {
          "base_uri": "https://localhost:8080/"
        },
        "id": "bvRG0-1Ql1Y2",
        "outputId": "dceafee5-42a2-43b4-a81e-0934a00c9ad5"
      },
      "outputs": [
        {
          "name": "stdout",
          "output_type": "stream",
          "text": [
            "Pvalue:  0.00\n"
          ]
        }
      ],
      "source": [
        "chi2, p, ddof, expected = chi2_contingency(citizenship_killedby_contingency_table)\n",
        "formatted_pvalue = \"{:.2f}\".format(p)\n",
        "print('Pvalue: ', formatted_pvalue)"
      ]
    },
    {
      "cell_type": "markdown",
      "metadata": {
        "id": "n4B5mlq8kSLi"
      },
      "source": [
        "Conflict between Palestinians and Israelis continue to prevail. Examining the relationship between `citizenship` and `killed_by` proves that the majority of *Palestinians* are killed by *Israeli Security Forces*. On the other hand, most of the kills dealt by *Palestinian Civilians* are *Israelis*. Which goes to show that violence is indeed rampant within these two groups. The chi-square test of independence also realizes this relationship with the p-value (0.00) being less than the alpha **(p < 0.05)**."
      ]
    },
    {
      "cell_type": "markdown",
      "metadata": {
        "id": "9md3GmUom0o5"
      },
      "source": [
        "### Exploring the relationship between Ammunition and Killed By"
      ]
    },
    {
      "cell_type": "code",
      "execution_count": null,
      "metadata": {
        "colab": {
          "base_uri": "https://localhost:8080/"
        },
        "id": "UrZhsGYtxajq",
        "outputId": "ae11a649-8f86-4a18-c900-405d308e60f8"
      },
      "outputs": [
        {
          "data": {
            "text/plain": [
              "array(['live ammunition', 'missile', 'rocket', '0.22-caliber bullets',\n",
              "       'bomb', 'knife', 'shell', 'rock', 'rubber-coated metal bullets',\n",
              "       'stun grenade', 'teargas canister', 'flare bomb', 'sponge rounds',\n",
              "       'mortar fire', 'grad rocket', 'flechette shells',\n",
              "       'phosphorus shell', 'Qassam rocket', 'explosive belt', 'grenade',\n",
              "       'car bomb'], dtype=object)"
            ]
          },
          "execution_count": 52,
          "metadata": {},
          "output_type": "execute_result"
        }
      ],
      "source": [
        "war_fatalities_df['ammunition'].unique()"
      ]
    },
    {
      "cell_type": "code",
      "execution_count": null,
      "metadata": {
        "colab": {
          "base_uri": "https://localhost:8080/",
          "height": 175
        },
        "id": "nAS17q4Qm7RJ",
        "outputId": "34c82b7d-c036-4b5d-e23c-1b41ac878140"
      },
      "outputs": [
        {
          "data": {
            "text/html": [
              "<div>\n",
              "<style scoped>\n",
              "    .dataframe tbody tr th:only-of-type {\n",
              "        vertical-align: middle;\n",
              "    }\n",
              "\n",
              "    .dataframe tbody tr th {\n",
              "        vertical-align: top;\n",
              "    }\n",
              "\n",
              "    .dataframe thead th {\n",
              "        text-align: right;\n",
              "    }\n",
              "</style>\n",
              "<table border=\"1\" class=\"dataframe\">\n",
              "  <thead>\n",
              "    <tr style=\"text-align: right;\">\n",
              "      <th>ammunition_category</th>\n",
              "      <th>Explosive Devices</th>\n",
              "      <th>Non-Explosive Weaponry</th>\n",
              "      <th>Projectiles/Weapons</th>\n",
              "    </tr>\n",
              "    <tr>\n",
              "      <th>killed_by</th>\n",
              "      <th></th>\n",
              "      <th></th>\n",
              "      <th></th>\n",
              "    </tr>\n",
              "  </thead>\n",
              "  <tbody>\n",
              "    <tr>\n",
              "      <th>Israeli civilians</th>\n",
              "      <td>0</td>\n",
              "      <td>4</td>\n",
              "      <td>44</td>\n",
              "    </tr>\n",
              "    <tr>\n",
              "      <th>Israeli security forces</th>\n",
              "      <td>2940</td>\n",
              "      <td>13</td>\n",
              "      <td>1381</td>\n",
              "    </tr>\n",
              "    <tr>\n",
              "      <th>Palestinian civilians</th>\n",
              "      <td>527</td>\n",
              "      <td>32</td>\n",
              "      <td>121</td>\n",
              "    </tr>\n",
              "  </tbody>\n",
              "</table>\n",
              "</div>"
            ],
            "text/plain": [
              "ammunition_category      Explosive Devices  Non-Explosive Weaponry  \\\n",
              "killed_by                                                            \n",
              "Israeli civilians                        0                       4   \n",
              "Israeli security forces               2940                      13   \n",
              "Palestinian civilians                  527                      32   \n",
              "\n",
              "ammunition_category      Projectiles/Weapons  \n",
              "killed_by                                     \n",
              "Israeli civilians                         44  \n",
              "Israeli security forces                 1381  \n",
              "Palestinian civilians                    121  "
            ]
          },
          "execution_count": 53,
          "metadata": {},
          "output_type": "execute_result"
        }
      ],
      "source": [
        "ammunition_killedby_contingency_table = pd.crosstab(war_fatalities_df['killed_by'], war_fatalities_df['ammunition_category'])\n",
        "ammunition_killedby_df = pd.DataFrame(ammunition_killedby_contingency_table)\n",
        "ammunition_killedby_df"
      ]
    },
    {
      "cell_type": "code",
      "execution_count": null,
      "metadata": {
        "colab": {
          "base_uri": "https://localhost:8080/",
          "height": 564
        },
        "id": "wIIj6fWzpewv",
        "outputId": "ef2ac62c-51de-4679-b607-96a044b9929e"
      },
      "outputs": [
        {
          "data": {
            "image/png": "[encoded data removed]",
            "text/plain": [
              "<Figure size 800x600 with 2 Axes>"
            ]
          },
          "metadata": {},
          "output_type": "display_data"
        }
      ],
      "source": [
        "plt.figure(figsize=(8, 6))\n",
        "sns.heatmap(ammunition_killedby_contingency_table, annot=True, fmt='d', cmap='coolwarm')\n",
        "plt.title('Frequency of Killed By - Ammunition')\n",
        "plt.xlabel('Ammunition')\n",
        "plt.ylabel('Killed By')\n",
        "plt.show()"
      ]
    },
    {
      "cell_type": "code",
      "execution_count": null,
      "metadata": {
        "colab": {
          "base_uri": "https://localhost:8080/"
        },
        "id": "1IJs40jHpfMq",
        "outputId": "0eaad9a2-34f4-4a25-9a37-8a9428ab2ca6"
      },
      "outputs": [
        {
          "name": "stdout",
          "output_type": "stream",
          "text": [
            "Pvalue:  0.00\n"
          ]
        }
      ],
      "source": [
        "chi2, p, ddof, expected = chi2_contingency(ammunition_killedby_contingency_table)\n",
        "formatted_pvalue = \"{:.2f}\".format(p)\n",
        "print('Pvalue: ', formatted_pvalue)"
      ]
    },
    {
      "cell_type": "markdown",
      "metadata": {
        "id": "yAGDbcJsnvoF"
      },
      "source": [
        "*What type of weaponry with respect to the group who killed individuals was used?*\n",
        "\n",
        "The relationship between `killed_by` and `ammunition` shows that both *Palestinian Civilians* and *Israeli Security Forces* favor using **explosive devices** the most. However, using **projectiles/weapons** such as live ammunition shows contrasting results - *Israeli Security Forces* has more usage of this type of weapon compared to *Palestinian Civilians*. Similarly, there is indeed a relationship between these two values that resulted from the Chi-Square Test of independence **p-value (0.00)** prompting us to accept the alternative hypothesis."
      ]
    },
    {
      "cell_type": "markdown",
      "metadata": {
        "id": "3XIFF2LUm9np"
      },
      "source": [
        "### Exploring the relationship between Event Location Region and Killed By"
      ]
    },
    {
      "cell_type": "code",
      "execution_count": null,
      "metadata": {
        "colab": {
          "base_uri": "https://localhost:8080/",
          "height": 175
        },
        "id": "dl9E6dEJpbkH",
        "outputId": "a4209e6b-f0d8-4e06-b797-7640a17c116a"
      },
      "outputs": [
        {
          "data": {
            "text/html": [
              "<div>\n",
              "<style scoped>\n",
              "    .dataframe tbody tr th:only-of-type {\n",
              "        vertical-align: middle;\n",
              "    }\n",
              "\n",
              "    .dataframe tbody tr th {\n",
              "        vertical-align: top;\n",
              "    }\n",
              "\n",
              "    .dataframe thead th {\n",
              "        text-align: right;\n",
              "    }\n",
              "</style>\n",
              "<table border=\"1\" class=\"dataframe\">\n",
              "  <thead>\n",
              "    <tr style=\"text-align: right;\">\n",
              "      <th>event_location_region</th>\n",
              "      <th>Gaza Strip</th>\n",
              "      <th>Israel</th>\n",
              "      <th>West Bank</th>\n",
              "    </tr>\n",
              "    <tr>\n",
              "      <th>killed_by</th>\n",
              "      <th></th>\n",
              "      <th></th>\n",
              "      <th></th>\n",
              "    </tr>\n",
              "  </thead>\n",
              "  <tbody>\n",
              "    <tr>\n",
              "      <th>Israeli civilians</th>\n",
              "      <td>1</td>\n",
              "      <td>7</td>\n",
              "      <td>40</td>\n",
              "    </tr>\n",
              "    <tr>\n",
              "      <th>Israeli security forces</th>\n",
              "      <td>3950</td>\n",
              "      <td>37</td>\n",
              "      <td>1002</td>\n",
              "    </tr>\n",
              "    <tr>\n",
              "      <th>Palestinian civilians</th>\n",
              "      <td>101</td>\n",
              "      <td>452</td>\n",
              "      <td>127</td>\n",
              "    </tr>\n",
              "  </tbody>\n",
              "</table>\n",
              "</div>"
            ],
            "text/plain": [
              "event_location_region    Gaza Strip  Israel  West Bank\n",
              "killed_by                                             \n",
              "Israeli civilians                 1       7         40\n",
              "Israeli security forces        3950      37       1002\n",
              "Palestinian civilians           101     452        127"
            ]
          },
          "execution_count": 56,
          "metadata": {},
          "output_type": "execute_result"
        }
      ],
      "source": [
        "event_loc_region_killedby_contingency_table = pd.crosstab(war_fatalities_df['killed_by'], war_fatalities_df['event_location_region'])\n",
        "event_loc_region_killedby_df = pd.DataFrame(event_loc_region_killedby_contingency_table)\n",
        "event_loc_region_killedby_df"
      ]
    },
    {
      "cell_type": "code",
      "execution_count": null,
      "metadata": {
        "colab": {
          "base_uri": "https://localhost:8080/",
          "height": 564
        },
        "id": "cn3HKeZwpd4g",
        "outputId": "1f920d0b-63c4-4cac-8bc6-8b731e494646"
      },
      "outputs": [
        {
          "data": {
            "image/png": "[encoded data removed]",
            "text/plain": [
              "<Figure size 800x600 with 2 Axes>"
            ]
          },
          "metadata": {},
          "output_type": "display_data"
        }
      ],
      "source": [
        "plt.figure(figsize=(8, 6))\n",
        "sns.heatmap(event_loc_region_killedby_contingency_table, annot=True, fmt='d', cmap='coolwarm')\n",
        "plt.title('Frequency of Killed By - Event Location Region')\n",
        "plt.xlabel('Event Location Region')\n",
        "plt.ylabel('Killed By')\n",
        "plt.show()"
      ]
    },
    {
      "cell_type": "code",
      "execution_count": null,
      "metadata": {
        "colab": {
          "base_uri": "https://localhost:8080/"
        },
        "id": "3SsqiAOPpeRd",
        "outputId": "ac376899-e634-493f-b998-544ad1dc56a0"
      },
      "outputs": [
        {
          "name": "stdout",
          "output_type": "stream",
          "text": [
            "Pvalue:  0.00\n"
          ]
        }
      ],
      "source": [
        "chi2, p, ddof, expected = chi2_contingency(event_loc_region_killedby_contingency_table)\n",
        "formatted_pvalue = \"{:.2f}\".format(p)\n",
        "print('Pvalue: ', formatted_pvalue)"
      ]
    },
    {
      "cell_type": "markdown",
      "metadata": {
        "id": "rNwmwcLuu5Rk"
      },
      "source": [
        "The relationship between `killed_by` and `event_location_region` shows that most kills by *Israelis* happened in the **Gaza Strip**, while most kills by *Palestinians* happened in **Israel**. Similarly, there is indeed a relationship between these two values that resulted from the Chi-Square Test of independence **p-value (0.00)**."
      ]
    },
    {
      "cell_type": "markdown",
      "metadata": {
        "id": "twOln7TJm84E"
      },
      "source": [
        "### Exploring the relationship between Event Location Region and Type of Injury"
      ]
    },
    {
      "cell_type": "code",
      "execution_count": null,
      "metadata": {
        "colab": {
          "base_uri": "https://localhost:8080/",
          "height": 269
        },
        "id": "yU988WOIpcPR",
        "outputId": "304cf9db-9f90-4d7f-b702-0ec565c75dd8"
      },
      "outputs": [
        {
          "data": {
            "text/html": [
              "<div>\n",
              "<style scoped>\n",
              "    .dataframe tbody tr th:only-of-type {\n",
              "        vertical-align: middle;\n",
              "    }\n",
              "\n",
              "    .dataframe tbody tr th {\n",
              "        vertical-align: top;\n",
              "    }\n",
              "\n",
              "    .dataframe thead th {\n",
              "        text-align: right;\n",
              "    }\n",
              "</style>\n",
              "<table border=\"1\" class=\"dataframe\">\n",
              "  <thead>\n",
              "    <tr style=\"text-align: right;\">\n",
              "      <th>event_location_region</th>\n",
              "      <th>Gaza Strip</th>\n",
              "      <th>Israel</th>\n",
              "      <th>West Bank</th>\n",
              "    </tr>\n",
              "    <tr>\n",
              "      <th>type_of_injury</th>\n",
              "      <th></th>\n",
              "      <th></th>\n",
              "      <th></th>\n",
              "    </tr>\n",
              "  </thead>\n",
              "  <tbody>\n",
              "    <tr>\n",
              "      <th>explosion</th>\n",
              "      <td>58</td>\n",
              "      <td>389</td>\n",
              "      <td>50</td>\n",
              "    </tr>\n",
              "    <tr>\n",
              "      <th>gunfire</th>\n",
              "      <td>3978</td>\n",
              "      <td>94</td>\n",
              "      <td>1096</td>\n",
              "    </tr>\n",
              "    <tr>\n",
              "      <th>house demolition</th>\n",
              "      <td>1</td>\n",
              "      <td>0</td>\n",
              "      <td>1</td>\n",
              "    </tr>\n",
              "    <tr>\n",
              "      <th>physically assaulted</th>\n",
              "      <td>0</td>\n",
              "      <td>0</td>\n",
              "      <td>1</td>\n",
              "    </tr>\n",
              "    <tr>\n",
              "      <th>shelling</th>\n",
              "      <td>13</td>\n",
              "      <td>0</td>\n",
              "      <td>0</td>\n",
              "    </tr>\n",
              "    <tr>\n",
              "      <th>stabbing</th>\n",
              "      <td>2</td>\n",
              "      <td>13</td>\n",
              "      <td>21</td>\n",
              "    </tr>\n",
              "  </tbody>\n",
              "</table>\n",
              "</div>"
            ],
            "text/plain": [
              "event_location_region  Gaza Strip  Israel  West Bank\n",
              "type_of_injury                                      \n",
              "explosion                      58     389         50\n",
              "gunfire                      3978      94       1096\n",
              "house demolition                1       0          1\n",
              "physically assaulted            0       0          1\n",
              "shelling                       13       0          0\n",
              "stabbing                        2      13         21"
            ]
          },
          "execution_count": 59,
          "metadata": {},
          "output_type": "execute_result"
        }
      ],
      "source": [
        "event_loc_region_injury_contingency_table = pd.crosstab(war_fatalities_df['type_of_injury'], war_fatalities_df['event_location_region'])\n",
        "event_loc_region_injury_df = pd.DataFrame(event_loc_region_injury_contingency_table)\n",
        "event_loc_region_injury_df"
      ]
    },
    {
      "cell_type": "code",
      "execution_count": null,
      "metadata": {
        "colab": {
          "base_uri": "https://localhost:8080/",
          "height": 564
        },
        "id": "Yfm-qBO2pcta",
        "outputId": "91932b83-2d63-40a5-9082-e5aab4b4e069"
      },
      "outputs": [
        {
          "data": {
            "image/png": "[encoded data removed]",
            "text/plain": [
              "<Figure size 800x600 with 2 Axes>"
            ]
          },
          "metadata": {},
          "output_type": "display_data"
        }
      ],
      "source": [
        "plt.figure(figsize=(8, 6))\n",
        "sns.heatmap(event_loc_region_injury_contingency_table, annot=True, fmt='d', cmap='coolwarm')\n",
        "plt.title('Type of Injury - Event Location Region')\n",
        "plt.xlabel('Event Location Region')\n",
        "plt.ylabel('Injury')\n",
        "plt.show()"
      ]
    },
    {
      "cell_type": "code",
      "execution_count": null,
      "metadata": {
        "colab": {
          "base_uri": "https://localhost:8080/"
        },
        "id": "WWPHf37zpdMh",
        "outputId": "4c861b10-4fb6-4d7f-a228-acda863eca5f"
      },
      "outputs": [
        {
          "name": "stdout",
          "output_type": "stream",
          "text": [
            "Pvalue:  0.00\n"
          ]
        }
      ],
      "source": [
        "chi2, p, ddof, expected = chi2_contingency(event_loc_region_killedby_contingency_table)\n",
        "formatted_pvalue = \"{:.2f}\".format(p)\n",
        "print('Pvalue: ', formatted_pvalue)"
      ]
    },
    {
      "cell_type": "markdown",
      "metadata": {
        "id": "whIm4Ei-vyTb"
      },
      "source": [
        "The relationship between `event_location_region` and `type_of_injury` shows that in the *Gaza Strip* and the *West Bank*, most deaths are caused by **gunfire**, while **explosion** causes most fatalities in *Israel*. Since explosives and projectile weaponry were mostly used it also meant that gunfire and explosions had the most type of injuries respectively. Similarly, there is indeed a relationship between these two values that resulted from the Chi-Square Test of independence **p-value**."
      ]
    },
    {
      "cell_type": "markdown",
      "metadata": {
        "id": "rGvd23Jt_cOK"
      },
      "source": [
        "### Exploring the relationship between Event Location Region and Age"
      ]
    },
    {
      "cell_type": "code",
      "execution_count": null,
      "metadata": {
        "colab": {
          "base_uri": "https://localhost:8080/"
        },
        "id": "7NcfZhfFKtn7",
        "outputId": "755324c1-23f0-4ed2-976b-0f2f1fdc1002"
      },
      "outputs": [
        {
          "name": "stdout",
          "output_type": "stream",
          "text": [
            "T-test between West Bank and Gaza Strip: p-value = 0.17038198664880064\n",
            "T-test between West Bank and Israel: p-value = 1.3369002847474656e-34\n",
            "T-test between Gaza Strip and Israel: p-value = 1.4023656299116464e-33\n"
          ]
        }
      ],
      "source": [
        "data_for_analysis = war_fatalities_df[['event_location_region', 'age']].dropna()\n",
        "\n",
        "unique_regions = data_for_analysis['event_location_region'].unique()\n",
        "\n",
        "region_ages = {region: data_for_analysis[data_for_analysis['event_location_region'] == region]['age'] for region in unique_regions}\n",
        "\n",
        "\n",
        "for i in range(len(unique_regions)):\n",
        "    for j in range(i + 1, len(unique_regions)):\n",
        "        region1 = unique_regions[i]\n",
        "        region2 = unique_regions[j]\n",
        "        t_stat, p_val = ttest_ind(region_ages[region1], region_ages[region2], equal_var=False)\n",
        "        print(f\"T-test between {region1} and {region2}: p-value = {p_val}\")"
      ]
    },
    {
      "cell_type": "code",
      "execution_count": null,
      "metadata": {
        "colab": {
          "base_uri": "https://localhost:8080/",
          "height": 498
        },
        "id": "s-BicxYe0XK4",
        "outputId": "9d8b4fb9-e9df-459d-a84a-833fc41e4e4c"
      },
      "outputs": [
        {
          "data": {
            "image/png": "[encoded data removed]",
            "text/plain": [
              "<Figure size 1000x600 with 1 Axes>"
            ]
          },
          "metadata": {},
          "output_type": "display_data"
        }
      ],
      "source": [
        "mean_ages = data_for_analysis.groupby('event_location_region')['age'].mean()\n",
        "plt.figure(figsize=(10, 6))\n",
        "mean_ages.plot(kind='bar', color='skyblue')\n",
        "plt.title('Mean Age by Event Location Region')\n",
        "plt.xlabel('Event Location Region')\n",
        "plt.ylabel('Mean Age')\n",
        "plt.xticks(rotation=45)\n",
        "plt.tight_layout()\n",
        "plt.show()"
      ]
    },
    {
      "cell_type": "markdown",
      "metadata": {
        "id": "pwWJyYphxN8S"
      },
      "source": [
        "Deaths recorded in *Palestinian territory* were mostly of people in their **mid-20s**, while deaths recorded in *Israel* were mostly of people in their **early 30s**. As per the Chi-Square Test of independence, there is no relationship between `event_location_region` and `age` for West Bank and Gaza Strip as p > 0.05. However, both West Bank and Israel and Gaza Strip and Israel have p < 0.05 which indicates a relationship."
      ]
    },
    {
      "cell_type": "markdown",
      "metadata": {
        "id": "iYouoyM1z8B9"
      },
      "source": [
        "### Exploring the relationship between Event Location Region and Citizenship"
      ]
    },
    {
      "cell_type": "code",
      "execution_count": null,
      "metadata": {
        "id": "hTeFeQ-b_Msz"
      },
      "outputs": [],
      "source": [
        "citizenship_loc_contingency_table = pd.crosstab(war_fatalities_df['citizenship'], war_fatalities_df['event_location_region'])"
      ]
    },
    {
      "cell_type": "code",
      "execution_count": null,
      "metadata": {
        "colab": {
          "base_uri": "https://localhost:8080/",
          "height": 564
        },
        "id": "w3H52bRpAXpv",
        "outputId": "2ba03509-8112-44d5-dc59-550e4da060df"
      },
      "outputs": [
        {
          "data": {
            "image/png": "[encoded data removed]",
            "text/plain": [
              "<Figure size 800x600 with 2 Axes>"
            ]
          },
          "metadata": {},
          "output_type": "display_data"
        }
      ],
      "source": [
        "plt.figure(figsize=(8, 6))\n",
        "sns.heatmap(citizenship_loc_contingency_table, annot=True, fmt='d', cmap='coolwarm')\n",
        "plt.title('Frequency of Citizenship - Event Location Region')\n",
        "plt.xlabel('Event Location Region')\n",
        "plt.ylabel('Citizenship')\n",
        "plt.show()"
      ]
    },
    {
      "cell_type": "code",
      "execution_count": null,
      "metadata": {
        "colab": {
          "base_uri": "https://localhost:8080/"
        },
        "id": "OAeERxXaDzHt",
        "outputId": "9333d494-938b-4300-c33e-af47317ffcf7"
      },
      "outputs": [
        {
          "name": "stdout",
          "output_type": "stream",
          "text": [
            "Pvalue:  0.00\n"
          ]
        }
      ],
      "source": [
        "chi2, p, ddof, expected = chi2_contingency(citizenship_loc_contingency_table)\n",
        "formatted_pvalue = \"{:.2f}\".format(p)\n",
        "print('Pvalue: ', formatted_pvalue)"
      ]
    },
    {
      "cell_type": "markdown",
      "metadata": {
        "id": "i6AeTRAHyOMq"
      },
      "source": [
        "The relationship between `citizenship` and `event_location_region` shows that most **Palestinians** were killed in *Palestinian territory*, while most **Israelis** were killed in *Israel*. Similarly, there is indeed a relationship between these two values that resulted from the Chi-Square Test of independence **p-value (0.00)** being significantly less than the **alpha (0.05)**."
      ]
    },
    {
      "cell_type": "markdown",
      "metadata": {
        "id": "qAtye505H8yV"
      },
      "source": [
        "### Exploring the relationship between Gender and Event Location Region"
      ]
    },
    {
      "cell_type": "code",
      "execution_count": null,
      "metadata": {
        "id": "BW70e3m5H8yc"
      },
      "outputs": [],
      "source": [
        "gender_loc_contingency_table = pd.crosstab(war_fatalities_df['gender'], war_fatalities_df['event_location_region'])"
      ]
    },
    {
      "cell_type": "code",
      "execution_count": null,
      "metadata": {
        "colab": {
          "base_uri": "https://localhost:8080/",
          "height": 564
        },
        "id": "F7UWhkIQH8yd",
        "outputId": "ca94158f-e0da-40ad-b188-653ea6b93e9a"
      },
      "outputs": [
        {
          "data": {
            "image/png": "[encoded data removed]",
            "text/plain": [
              "<Figure size 800x600 with 2 Axes>"
            ]
          },
          "metadata": {},
          "output_type": "display_data"
        }
      ],
      "source": [
        "# Frequency Heat Map\n",
        "plt.figure(figsize=(8, 6))\n",
        "sns.heatmap(gender_loc_contingency_table, annot=True, fmt='d', cmap='coolwarm')\n",
        "plt.title('Frequency of Gender - Event Location Region')\n",
        "plt.xlabel('Event Location Region')\n",
        "plt.ylabel('Gender')\n",
        "plt.show()"
      ]
    },
    {
      "cell_type": "code",
      "execution_count": null,
      "metadata": {
        "colab": {
          "base_uri": "https://localhost:8080/"
        },
        "id": "wrGbJn3NH8yd",
        "outputId": "f975350a-4c01-4b05-f31d-5426b9d9f45d"
      },
      "outputs": [
        {
          "name": "stdout",
          "output_type": "stream",
          "text": [
            "Pvalue:  0.00\n"
          ]
        }
      ],
      "source": [
        "chi2, p, ddof, expected = chi2_contingency(gender_loc_contingency_table)\n",
        "formatted_pvalue = \"{:.2f}\".format(p)\n",
        "print('Pvalue: ', formatted_pvalue)"
      ]
    },
    {
      "cell_type": "markdown",
      "metadata": {
        "id": "ruF-jrxEzUow"
      },
      "source": [
        "The relationship between `gender` and `event_location_region` shows that **males** died more in *Palestinian territory* than females. **Males** also died more in *Israel* than females but only by a small margin.\n",
        "Similarly, there is indeed a relationship between these two values that resulted from the Chi-Square Test of independence **p-value (0.00)**."
      ]
    },
    {
      "cell_type": "markdown",
      "metadata": {
        "id": "fCsRsHJzJoNa"
      },
      "source": [
        "### Exploring the relationship between Ammunition Used and Event Location Region"
      ]
    },
    {
      "cell_type": "code",
      "execution_count": null,
      "metadata": {
        "colab": {
          "base_uri": "https://localhost:8080/"
        },
        "id": "FEdB-mGFeS-O",
        "outputId": "3e7d8a65-5493-443c-c23e-f2a976e24a03"
      },
      "outputs": [
        {
          "data": {
            "text/plain": [
              "array(['live ammunition', 'missile', 'rocket', '0.22-caliber bullets',\n",
              "       'bomb', 'knife', 'shell', 'rock', 'rubber-coated metal bullets',\n",
              "       'stun grenade', 'teargas canister', 'flare bomb', 'sponge rounds',\n",
              "       'mortar fire', 'grad rocket', 'flechette shells',\n",
              "       'phosphorus shell', 'Qassam rocket', 'explosive belt', 'grenade',\n",
              "       'car bomb'], dtype=object)"
            ]
          },
          "execution_count": 70,
          "metadata": {},
          "output_type": "execute_result"
        }
      ],
      "source": [
        "war_fatalities_df['ammunition'].unique()"
      ]
    },
    {
      "cell_type": "code",
      "execution_count": null,
      "metadata": {
        "id": "WExKcTnxJoNl"
      },
      "outputs": [],
      "source": [
        "ammunition_loc_contingency_table = pd.crosstab(war_fatalities_df['ammunition_category'], war_fatalities_df['event_location_region'])"
      ]
    },
    {
      "cell_type": "code",
      "execution_count": null,
      "metadata": {
        "colab": {
          "base_uri": "https://localhost:8080/",
          "height": 557
        },
        "id": "dT85HUOXJoNl",
        "outputId": "a56b0991-48ac-4200-cf36-b6432dcf0378"
      },
      "outputs": [
        {
          "data": {
            "image/png": "[encoded data removed]",
            "text/plain": [
              "<Figure size 800x600 with 2 Axes>"
            ]
          },
          "metadata": {},
          "output_type": "display_data"
        }
      ],
      "source": [
        "# Frequency Heat Map\n",
        "plt.figure(figsize=(8, 6))\n",
        "sns.heatmap(ammunition_loc_contingency_table, annot=True, fmt='d', cmap='coolwarm')\n",
        "plt.title('Frequency of Type of Ammunition Used - Event Location Region')\n",
        "plt.xlabel('Event Location Region')\n",
        "plt.ylabel('Ammunition Used')\n",
        "plt.show()"
      ]
    },
    {
      "cell_type": "code",
      "execution_count": null,
      "metadata": {
        "colab": {
          "base_uri": "https://localhost:8080/"
        },
        "id": "bDjXouUsJoNm",
        "outputId": "8a9b5d24-a723-4196-c700-59fc8e0c1aae"
      },
      "outputs": [
        {
          "name": "stdout",
          "output_type": "stream",
          "text": [
            "Pvalue:  0.00\n"
          ]
        }
      ],
      "source": [
        "chi2, p, ddof, expected = chi2_contingency(ammunition_loc_contingency_table)\n",
        "formatted_pvalue = \"{:.2f}\".format(p)\n",
        "print('Pvalue: ', formatted_pvalue)"
      ]
    },
    {
      "cell_type": "markdown",
      "metadata": {
        "id": "Jc396nFK44_4"
      },
      "source": [
        "The figure above represents the frequency of the type of ammunition used per event location region. Statistics show that **explosive devices** were the frequently used ammunition in *Gaza Strip (2,940)* and *Israel (430)*, while **projectiles/weapons** were most used in conflicts happening in *West Bank (1,017)*. The relationship between `ammunition_category` and `event_location_region` is also noted to be significant as provided by the resulting p-value (0.00) being less than the alpha (0.05)"
      ]
    },
    {
      "cell_type": "markdown",
      "metadata": {
        "id": "Uo2QMynvYlDi"
      },
      "source": [
        "## Geospatial Analysis: Total Fatalities within Israel"
      ]
    },
    {
      "cell_type": "markdown",
      "metadata": {
        "id": "9DtxaqSGVJ0r"
      },
      "source": [
        "### Analyzing the number of fatalities based on regions"
      ]
    },
    {
      "cell_type": "code",
      "execution_count": null,
      "metadata": {
        "colab": {
          "base_uri": "https://localhost:8080/"
        },
        "id": "xLisj8ZrVQeD",
        "outputId": "50b94a2f-b8c1-46ab-87c8-c07f2f11455d"
      },
      "outputs": [
        {
          "data": {
            "text/plain": [
              "count           5717\n",
              "unique             3\n",
              "top       Gaza Strip\n",
              "freq            4052\n",
              "Name: event_location_region, dtype: object"
            ]
          },
          "execution_count": 74,
          "metadata": {},
          "output_type": "execute_result"
        }
      ],
      "source": [
        "war_fatalities_df['event_location_region'].describe()"
      ]
    },
    {
      "cell_type": "code",
      "execution_count": null,
      "metadata": {
        "colab": {
          "base_uri": "https://localhost:8080/"
        },
        "id": "jXY5CvRpVTCj",
        "outputId": "63a6e07b-50c2-43c3-e067-2698301046a8"
      },
      "outputs": [
        {
          "name": "stdout",
          "output_type": "stream",
          "text": [
            "Regions and their Fatality Count:\n",
            "Gaza Strip    4052\n",
            "West Bank     1169\n",
            "Israel         496\n",
            "Name: event_location_region, dtype: int64\n"
          ]
        }
      ],
      "source": [
        "pd.set_option('display.max_rows', None)\n",
        "fatalities_by_region = war_fatalities_df['event_location_region'].value_counts()\n",
        "print(\"Regions and their Fatality Count:\")\n",
        "print(fatalities_by_region)\n",
        "pd.reset_option('display.max_rows')"
      ]
    },
    {
      "cell_type": "code",
      "execution_count": null,
      "metadata": {
        "colab": {
          "base_uri": "https://localhost:8080/"
        },
        "id": "M8767q9IVY7e",
        "outputId": "d2913a44-747c-4df9-b76a-f495c9dc6c0d"
      },
      "outputs": [
        {
          "name": "stdout",
          "output_type": "stream",
          "text": [
            "Regions and their Number of Fatalities\n",
            "event_location_region\n",
            "496         [Israel]\n",
            "1169     [West Bank]\n",
            "4052    [Gaza Strip]\n",
            "Name: event_location_region, dtype: object\n"
          ]
        }
      ],
      "source": [
        "pd.set_option('display.max_rows', None)\n",
        "\n",
        "fatalities_by_location = war_fatalities_df['event_location_region'].value_counts()\n",
        "\n",
        "\n",
        "region_by_count = fatalities_by_region.groupby(fatalities_by_region).apply(lambda x: x.index.tolist())\n",
        "\n",
        "print(\"Regions and their Number of Fatalities\")\n",
        "print(region_by_count)\n",
        "\n",
        "\n",
        "pd.reset_option('display.max_rows')"
      ]
    },
    {
      "cell_type": "code",
      "execution_count": null,
      "metadata": {
        "colab": {
          "base_uri": "https://localhost:8080/",
          "height": 662
        },
        "id": "HTpMhb3BVfG8",
        "outputId": "a23e6671-2c72-479f-fb6f-c7305d7db403"
      },
      "outputs": [
        {
          "data": {
            "image/png": "[encoded data removed]",
            "text/plain": [
              "<Figure size 1000x800 with 1 Axes>"
            ]
          },
          "metadata": {},
          "output_type": "display_data"
        }
      ],
      "source": [
        "fatalities_count_by_regions = war_fatalities_df[\"event_location_region\"].value_counts()\n",
        "\n",
        "plt.figure(figsize=(10, 8))\n",
        "fatalities_count_by_regions.plot.barh()\n",
        "plt.gca().invert_yaxis()\n",
        "plt.title('Fatalities Count in Regions')\n",
        "plt.xlabel('Fatalities Count')\n",
        "plt.ylabel('Regions')\n",
        "plt.tight_layout()\n",
        "plt.show()"
      ]
    },
    {
      "cell_type": "markdown",
      "metadata": {
        "id": "liflZRdR00yX"
      },
      "source": [
        "Based on the statistics presented from the figure above, it shows that Gaza Strip incurred the most fatality count among the three given regions, with 4,052 casualties recorded."
      ]
    },
    {
      "cell_type": "markdown",
      "metadata": {
        "id": "xOG9par5I6MH"
      },
      "source": [
        "### Analyzing the number of fatalities based on cities"
      ]
    },
    {
      "cell_type": "code",
      "execution_count": null,
      "metadata": {
        "colab": {
          "base_uri": "https://localhost:8080/"
        },
        "id": "Ap1TlYwRW1PU",
        "outputId": "565aa361-c85d-44a7-ae4e-8dcfd9c1939d"
      },
      "outputs": [
        {
          "data": {
            "text/plain": [
              "count          5717\n",
              "unique          356\n",
              "top       Gaza City\n",
              "freq           1311\n",
              "Name: event_location, dtype: object"
            ]
          },
          "execution_count": 78,
          "metadata": {},
          "output_type": "execute_result"
        }
      ],
      "source": [
        "war_fatalities_df['event_location'].describe()"
      ]
    },
    {
      "cell_type": "code",
      "execution_count": null,
      "metadata": {
        "colab": {
          "base_uri": "https://localhost:8080/"
        },
        "id": "8ccYEuNyRQRS",
        "outputId": "9ec135db-8836-411f-ded8-28c5aa9e2066"
      },
      "outputs": [
        {
          "name": "stdout",
          "output_type": "stream",
          "text": [
            "Cities and their Fatality Count\n",
            "Gaza City                            1311\n",
            "Rafah                                 376\n",
            "Jabalya R.C.                          319\n",
            "Beit Lahiya                           303\n",
            "Jabalya                               275\n",
            "Khan Yunis                            255\n",
            "Beit Hanoun                           217\n",
            "Jerusalem                             152\n",
            "al-Bureij R.C.                        141\n",
            "Deir al-Balah                          86\n",
            "Khuza'ah                               81\n",
            "Nablus                                 75\n",
            "Hebron                                 71\n",
            "'Abasan al-Kabirah                     71\n",
            "Jenin                                  68\n",
            "Jenin R.C.                             68\n",
            "Haifa                                  68\n",
            "al-Qararah                             64\n",
            "al-Maghazi R.C.                        50\n",
            "a-Nuseirat R.C.                        46\n",
            "Netanya                                45\n",
            "Bani Suheila                           42\n",
            "Old City (Jerusalem)                   42\n",
            "Tel Aviv-Yafo                          37\n",
            "'Abasan al-Jadidah (a-Saghirah)        36\n",
            "Rafah R.C.                             36\n",
            "Tel Aviv                               29\n",
            "Qalandia R.C.                          27\n",
            "Juhor a-Dik                            27\n",
            "Huwarah                                26\n",
            "a-Shati' R.C.                          24\n",
            "al-Birah                               24\n",
            "Balata R.C.                            23\n",
            "Gush Etzion                            22\n",
            "al-Fukhari                             19\n",
            "Netzarim                               19\n",
            "Erez (Industrial Zone)                 19\n",
            "Rishon Lezion                          18\n",
            "Beersheba                              17\n",
            "East Jerusalem                         17\n",
            "Beita                                  16\n",
            "al-'Arrub R.C.                         15\n",
            "Ramallah                               15\n",
            "Kissufim                               15\n",
            "Beit Ummar                             14\n",
            "Khan Yunis R.C.                        14\n",
            "al-Mughraqa (Abu Midein)               14\n",
            "Immanuel                               14\n",
            "a-Zawaydah                             13\n",
            "Karni Checkpoint                       13\n",
            "Tulkarm                                13\n",
            "'Aqbat Jaber R.C.                      13\n",
            "Za'tara                                12\n",
            "Ashdod                                 12\n",
            "Ari'el                                 11\n",
            "Kiryat Arba                            11\n",
            "a-Nabi Saleh                           11\n",
            "Qalqiliyah                             11\n",
            "a-Duheisheh R.C.                       11\n",
            "Kh. al-'Adas                           11\n",
            "Silwad                                 10\n",
            "Shokat a-Sufi                          10\n",
            "Pardes Hana-Karkur                     10\n",
            "Halhul                                  9\n",
            "a-Ram                                   9\n",
            "Sderot                                  9\n",
            "Tubas                                   9\n",
            "Deir al-Balah R.C.                      9\n",
            "Bani Na'im                              9\n",
            "Ashkelon                                8\n",
            "Alei Sinai                              8\n",
            "Hadera                                  8\n",
            "a-Sayfa                                 8\n",
            "Kfar Dan                                8\n",
            "Qabatiyah                               8\n",
            "Hamra                                   8\n",
            "Gush Katif                              8\n",
            "Jaba'                                   8\n",
            "al-Fawar R.C.                           8\n",
            "'Anabta                                 7\n",
            "al-Jalazun R.C.                         7\n",
            "Beit Furik                              7\n",
            "Beit 'Einun                             7\n",
            "al-Jalameh                              7\n",
            "Bethlehem                               7\n",
            "Birqin                                  7\n",
            "al-Qarayah al-Badwiyah al-Maslakh       7\n",
            "Wadi a-Salqa                            7\n",
            "Nur Shams R.C.                          7\n",
            "Eli                                     7\n",
            "Sufah Checkpoint                        7\n",
            "al-Far'ah R.C.                          7\n",
            "Neve Ya'akov                            7\n",
            "Ya'bad                                  6\n",
            "Um a-Naser (al-Bayuk)                   6\n",
            "French Hill (Giv'at Shapira)            6\n",
            "Dugit                                   6\n",
            "Netzarim Junction                       6\n",
            "Petah Tikva                             6\n",
            "al-Yamun                                6\n",
            "a-Shaburah (R.C)                        6\n",
            "Kedumim                                 6\n",
            "'Izbat Beit Hanoun                      6\n",
            "Tall a-Sultan R.C.                      5\n",
            "Bidu                                    5\n",
            "a-Sawahrah a-Sharqiyah                  5\n",
            "Tulkarm R.C.                            5\n",
            "Egyptian Border                         5\n",
            "a-Za'ayem                               5\n",
            "Nahal Oz Checkpoint                     5\n",
            "Husan                                   5\n",
            "Rafah Crossing                          5\n",
            "Beit 'Ur a-Tahta                        4\n",
            "Meron Intersection                      4\n",
            "Beit Liqya                              4\n",
            "Gaza Strip                              4\n",
            "The Perimeter Fence                     4\n",
            "Morag                                   4\n",
            "Beit Jala                               4\n",
            "Megiddo Intersection                    4\n",
            "al-'Atatrah                             4\n",
            "Afula                                   4\n",
            "Shu'fat R.C.                            4\n",
            "Bitunya                                 4\n",
            "Sa'ir                                   4\n",
            "al-Musadar                              4\n",
            "al-Mughayir                             4\n",
            "a-Sureij                                4\n",
            "Kfar Sava                               4\n",
            "Silwan                                  4\n",
            "al-Khader                               4\n",
            "Itamar                                  4\n",
            "Ni'lin                                  4\n",
            "Beit El                                 4\n",
            "'Askar R.C.                             4\n",
            "Salem                                   3\n",
            "Otniel                                  3\n",
            "Bet Horon                               3\n",
            "Wadi 'Ara Road                          3\n",
            "Ofra                                    3\n",
            "'Einav                                  3\n",
            "Sinjil                                  3\n",
            "Deir Abu Mash'al                        3\n",
            "Kissufim - Israeli side                 3\n",
            "Beit 'Awwa                              3\n",
            "al-'Araqah                              3\n",
            "Ma'ale Adumim                           3\n",
            "Sarra                                   3\n",
            "Karnei Shomron                          3\n",
            "Beit 'Anan                              3\n",
            "al-Mazra'ah al-Qibliyah                 3\n",
            "Adam (Geva Binyamin)                    3\n",
            "Kafr 'Aqab (Jerusalem)                  3\n",
            "'Anata                                  3\n",
            "'Abud                                   3\n",
            "'Araba                                  3\n",
            "Bnei Brak                               3\n",
            "Kiryat Malachi                          3\n",
            "Beit Fajjar                             3\n",
            "Haris                                   3\n",
            "Idhna                                   3\n",
            "'Izbat Shufah                           3\n",
            "Yatta                                   3\n",
            "Qusrah                                  3\n",
            "Hizma                                   3\n",
            "Alon Shvut                              3\n",
            "Tuqu'                                   3\n",
            "Bir al-Basha                            3\n",
            "'Azzun                                  3\n",
            "Beit Sahur                              3\n",
            "Tekoa                                   3\n",
            "al-Mawasi                               3\n",
            "a-Tur                                   2\n",
            "Mevo Dotan                              2\n",
            "Nahariya                                2\n",
            "Har Adar                                2\n",
            "Neve Yemin Intersection                 2\n",
            "Zur Baher                               2\n",
            "a-Sater R.C.                            2\n",
            "Aviezer                                 2\n",
            "'Atarot                                 2\n",
            "'Awarta                                 2\n",
            "Jericho                                 2\n",
            "Gan Or                                  2\n",
            "Kfar Aza                                2\n",
            "Rafiah Yam                              2\n",
            "Tapuah Junction                         2\n",
            "Eshkol Regional Council                 2\n",
            "Lahav                                   2\n",
            "Dura                                    2\n",
            "Ramin                                   2\n",
            "Kfar Adumim                             2\n",
            "Nissanit                                2\n",
            "Kibbutz Nahal Oz                        2\n",
            "Kibbutz Nirim                           2\n",
            "Wadi al-Joz                             2\n",
            "Yevul                                   2\n",
            "Burin                                   2\n",
            "Bir Zeit                                2\n",
            "'Aydah R.C.                             2\n",
            "Budrus                                  2\n",
            "'Iraq Burin                             2\n",
            "Deir Ibzi'                              2\n",
            "Kfar Darom                              2\n",
            "Burqah                                  2\n",
            "Kibbutz Nir Oz                          2\n",
            "Deir Nizam                              2\n",
            "Turmusaya                               2\n",
            "Qarawat Bani Hassan                     2\n",
            "Dahmash                                 2\n",
            "Sde Ephraim farm                        2\n",
            "al-Fandaqumiyah                         2\n",
            "Kafr Ein                                2\n",
            "Bil'in                                  2\n",
            "al-Mazra'ah a-Sharqiyah                 2\n",
            "Qalandia (Jerusalem)                    2\n",
            "Giv'at Ha'avot                          2\n",
            "Saffa                                   2\n",
            "Balata                                  2\n",
            "Deir al-Hatab                           2\n",
            "Abu Dis                                 2\n",
            "Havat Gilad                             2\n",
            "Mitzpe Eshtamoa                         2\n",
            "Elon Moreh                              2\n",
            "Salfit                                  2\n",
            "Kibbutz Kerem Shalom                    2\n",
            "Barkan                                  2\n",
            "Kafr Ni'ma                              2\n",
            "'Aqqabah                                2\n",
            "Far'on                                  2\n",
            "Ramle                                   1\n",
            "Beit 'Ur al-Foqa                        1\n",
            "'Anin                                   1\n",
            "al-Matahen Abu Holi Border              1\n",
            "al-Musrarah                             1\n",
            "Netiv Ha'asara                          1\n",
            "Tapuah                                  1\n",
            "Kafr Ra'i                               1\n",
            "Jit                                     1\n",
            "Beit Duqu                               1\n",
            "Bat Ayin                                1\n",
            "Kh. Jubara                              1\n",
            "Dimona                                  1\n",
            "Herzliya                                1\n",
            "Moshav Nehusha                          1\n",
            "Netivot                                 1\n",
            "Ma'ale Mikhmas                          1\n",
            "al-Funduq                               1\n",
            "Argaman                                 1\n",
            "Me Ammi Intersection                    1\n",
            "Kissufim Checkpoint                     1\n",
            "al-'Eizariyah                           1\n",
            "'Ein Beit al-Maa R.C.                   1\n",
            "DCO Gush Katif                          1\n",
            "Modi'in                                 1\n",
            "Safa                                    1\n",
            "Mehola                                  1\n",
            "Deir Dobwan                             1\n",
            "Um Safa                                 1\n",
            "Rehovot                                 1\n",
            "Qalandia                                1\n",
            "Beit Sira                               1\n",
            "Netzer Hazani                           1\n",
            "Rantis                                  1\n",
            "Hermesh                                 1\n",
            "Tene                                    1\n",
            "Sde Trumot                              1\n",
            "Ganei Tal                               1\n",
            "Kfar Ya'bez                             1\n",
            "Rosh Ha'ayin                            1\n",
            "Barta'ah a-Sharqiyah                    1\n",
            "Iskaka                                  1\n",
            "Saida                                   1\n",
            "Havat Dorot Ilit                        1\n",
            "Immatin                                 1\n",
            "Kadim                                   1\n",
            "Kibbutz Sheluchot                       1\n",
            "Ramot Alon                              1\n",
            "Sabastiya                               1\n",
            "'Anata new (Dahiyat a-Salam)            1\n",
            "Maor                                    1\n",
            "Hajjah                                  1\n",
            "a-Zababidah                             1\n",
            "Neve Deqalim                            1\n",
            "Beit Hagai                              1\n",
            "Carmei Tzur                             1\n",
            "al-Midyah                               1\n",
            "'Asirah a-Shamaliyah                    1\n",
            "a-Zawiya                                1\n",
            "Khallet a-Nu'man                        1\n",
            "Kafr Jammal                             1\n",
            "Elazar                                  1\n",
            "Almon                                   1\n",
            "Dolev                                   1\n",
            "Ras al-'Amud                            1\n",
            "al-'Esawiyah                            1\n",
            "Qaffin                                  1\n",
            "Qatanah                                 1\n",
            "Kifl Hares                              1\n",
            "Bet Shemesh                             1\n",
            "Um a-Rihan                              1\n",
            "Beit Dajan                              1\n",
            "'Ein 'Arik                              1\n",
            "al-Khas                                 1\n",
            "Elad                                    1\n",
            "Kochav Ya'akov                          1\n",
            "'Urif                                   1\n",
            "Tammun                                  1\n",
            "Surda                                   1\n",
            "Talpiot (East)                          1\n",
            "Yafit                                   1\n",
            "Mor Farm                                1\n",
            "Beit Rima                               1\n",
            "Be'erotayim                             1\n",
            "'Ein Yabrud                             1\n",
            "Beit Ula                                1\n",
            "Madama                                  1\n",
            "Surif                                   1\n",
            "Adorayim                                1\n",
            "Kibbutz Erez                            1\n",
            "Pisgat Ze'ev                            1\n",
            "Kiryat Gat                              1\n",
            "Bir Nabala                              1\n",
            "'Ein Siniya                             1\n",
            "Ramat Eshkol East/Givat Hamivtar        1\n",
            "Wadi Jraba                              1\n",
            "a-Samu'                                 1\n",
            "Um a-Sharayet - Samiramis               1\n",
            "Deir al-'Asal al-Foqa                   1\n",
            "Beitin                                  1\n",
            "al-Karmel                               1\n",
            "Kharbatha al-Misbah                     1\n",
            "Homesh                                  1\n",
            "a-Ramadin                               1\n",
            "Deir Sharaf                             1\n",
            "Jayus                                   1\n",
            "Neve Daniel                             1\n",
            "Rammun                                  1\n",
            "Qizan a-Najar                           1\n",
            "Turah al-Gharbiyah                      1\n",
            "Sheikh Jarrah                           1\n",
            "Ramat Gan                               1\n",
            "Zeita                                   1\n",
            "a-Dhahiriyah                            1\n",
            "Psagot                                  1\n",
            "Qabalan                                 1\n",
            "Shweikah                                1\n",
            "Marda                                   1\n",
            "'Asirah al-Qibliyah                     1\n",
            "Yatma                                   1\n",
            "al-Am'ari R.C.                          1\n",
            "Abu Tur                                 1\n",
            "Tell                                    1\n",
            "Shvut Rachel                            1\n",
            "Odala                                   1\n",
            "Sdei Avraham                            1\n",
            "Name: event_location, dtype: int64\n"
          ]
        }
      ],
      "source": [
        "pd.set_option('display.max_rows', None)\n",
        "fatalities_by_location = war_fatalities_df['event_location'].value_counts()\n",
        "print(\"Cities and their Fatality Count\")\n",
        "print(fatalities_by_location)\n",
        "pd.reset_option('display.max_rows')"
      ]
    },
    {
      "cell_type": "code",
      "execution_count": null,
      "metadata": {
        "colab": {
          "base_uri": "https://localhost:8080/"
        },
        "id": "PWJy1JXkR_cf",
        "outputId": "0c2bd3d5-0c76-4801-e778-447fd1f1e284"
      },
      "outputs": [
        {
          "name": "stdout",
          "output_type": "stream",
          "text": [
            "Cities and their Number of Fatalities\n",
            "event_location\n",
            "1       [Ramle, Beit 'Ur al-Foqa, 'Anin, al-Matahen Ab...\n",
            "2       [a-Tur, Mevo Dotan, Nahariya, Har Adar, Neve Y...\n",
            "3       [Salem, Otniel, Bet Horon, Wadi 'Ara Road, Ofr...\n",
            "4       [Beit 'Ur a-Tahta, Meron Intersection, Beit Li...\n",
            "5       [Tall a-Sultan R.C., Bidu, a-Sawahrah a-Sharqi...\n",
            "6       [Ya'bad, Um a-Naser (al-Bayuk), French Hill (G...\n",
            "7       ['Anabta, al-Jalazun R.C., Beit Furik, Beit 'E...\n",
            "8       [Ashkelon, Alei Sinai, Hadera, a-Sayfa, Kfar D...\n",
            "9       [Halhul, a-Ram, Sderot, Tubas, Deir al-Balah R...\n",
            "10            [Silwad, Shokat a-Sufi, Pardes Hana-Karkur]\n",
            "11      [Ari'el, Kiryat Arba, a-Nabi Saleh, Qalqiliyah...\n",
            "12                                      [Za'tara, Ashdod]\n",
            "13      [a-Zawaydah, Karni Checkpoint, Tulkarm, 'Aqbat...\n",
            "14      [Beit Ummar, Khan Yunis R.C., al-Mughraqa (Abu...\n",
            "15                   [al-'Arrub R.C., Ramallah, Kissufim]\n",
            "16                                                [Beita]\n",
            "17                            [Beersheba, East Jerusalem]\n",
            "18                                        [Rishon Lezion]\n",
            "19         [al-Fukhari, Netzarim, Erez (Industrial Zone)]\n",
            "22                                          [Gush Etzion]\n",
            "23                                          [Balata R.C.]\n",
            "24                              [a-Shati' R.C., al-Birah]\n",
            "26                                              [Huwarah]\n",
            "27                           [Qalandia R.C., Juhor a-Dik]\n",
            "29                                             [Tel Aviv]\n",
            "36          ['Abasan al-Jadidah (a-Saghirah), Rafah R.C.]\n",
            "37                                        [Tel Aviv-Yafo]\n",
            "42                   [Bani Suheila, Old City (Jerusalem)]\n",
            "45                                              [Netanya]\n",
            "46                                      [a-Nuseirat R.C.]\n",
            "50                                      [al-Maghazi R.C.]\n",
            "64                                           [al-Qararah]\n",
            "68                             [Jenin, Jenin R.C., Haifa]\n",
            "71                           [Hebron, 'Abasan al-Kabirah]\n",
            "75                                               [Nablus]\n",
            "81                                             [Khuza'ah]\n",
            "86                                        [Deir al-Balah]\n",
            "141                                      [al-Bureij R.C.]\n",
            "152                                           [Jerusalem]\n",
            "217                                         [Beit Hanoun]\n",
            "255                                          [Khan Yunis]\n",
            "275                                             [Jabalya]\n",
            "303                                         [Beit Lahiya]\n",
            "319                                        [Jabalya R.C.]\n",
            "376                                               [Rafah]\n",
            "1311                                          [Gaza City]\n",
            "Name: event_location, dtype: object\n"
          ]
        }
      ],
      "source": [
        "pd.set_option('display.max_rows', None)\n",
        "\n",
        "fatalities_by_location = war_fatalities_df['event_location'].value_counts()\n",
        "\n",
        "\n",
        "grouped_by_count = fatalities_by_location.groupby(fatalities_by_location).apply(lambda x: x.index.tolist())\n",
        "\n",
        "print(\"Cities and their Number of Fatalities\")\n",
        "print(grouped_by_count)\n",
        "\n",
        "\n",
        "pd.reset_option('display.max_rows')"
      ]
    },
    {
      "cell_type": "code",
      "execution_count": null,
      "metadata": {
        "colab": {
          "base_uri": "https://localhost:8080/",
          "height": 662
        },
        "id": "sogPlwF29lOB",
        "outputId": "539e31c9-f618-401f-8766-27117fb3d1ee"
      },
      "outputs": [
        {
          "data": {
            "image/png": "[encoded data removed]",
            "text/plain": [
              "<Figure size 1000x800 with 1 Axes>"
            ]
          },
          "metadata": {},
          "output_type": "display_data"
        }
      ],
      "source": [
        "fatalities_count_by_location = war_fatalities_df[\"event_location\"].value_counts()\n",
        "\n",
        "filtered_locations = fatalities_count_by_location[fatalities_count_by_location > 20]\n",
        "\n",
        "plt.figure(figsize=(10, 8))\n",
        "filtered_locations.plot.barh()\n",
        "plt.gca().invert_yaxis()\n",
        "plt.title('Fatalities Count in Cities with 20 or More Fatalities')\n",
        "plt.xlabel('Fatalities')\n",
        "plt.ylabel('Cities')\n",
        "plt.tight_layout()\n",
        "plt.show()"
      ]
    },
    {
      "cell_type": "markdown",
      "metadata": {
        "id": "uChK8AxKYQmY"
      },
      "source": [
        "### Analyzing the number of fatalities per day in Different Cities"
      ]
    },
    {
      "cell_type": "code",
      "execution_count": null,
      "metadata": {
        "colab": {
          "base_uri": "https://localhost:8080/"
        },
        "id": "2eDANgwOZ5Ba",
        "outputId": "560c7289-8c9d-4401-8803-c2e393b0ff19"
      },
      "outputs": [
        {
          "name": "stdout",
          "output_type": "stream",
          "text": [
            "event_location\n",
            "Gaza City         1311\n",
            "Rafah              376\n",
            "Jabalya R.C.       319\n",
            "Beit Lahiya        303\n",
            "Jabalya            275\n",
            "Khan Yunis         255\n",
            "Beit Hanoun        217\n",
            "Jerusalem          152\n",
            "al-Bureij R.C.     141\n",
            "Deir al-Balah       86\n",
            "Name: fatalities_count, dtype: int64\n"
          ]
        }
      ],
      "source": [
        "war_fatalities_df['date_of_event'] = pd.to_datetime(war_fatalities_df['date_of_event'])\n",
        "war_fatalities_df['year_of_event'] = war_fatalities_df['date_of_event'].dt.year\n",
        "\n",
        "fatalities_per_day_city = war_fatalities_df.groupby(['date_of_event', 'event_location']).size().reset_index(name='fatalities_count')\n",
        "top_cities = fatalities_per_day_city.groupby('event_location')['fatalities_count'].sum().nlargest(10)\n",
        "print(top_cities)\n",
        "\n",
        "top_cities = fatalities_per_day_city.groupby('event_location')['fatalities_count'].sum().nlargest(10).index.tolist()\n",
        "\n",
        "\n",
        "top_cities_data = fatalities_per_day_city[fatalities_per_day_city['event_location'].isin(top_cities)]\n"
      ]
    },
    {
      "cell_type": "code",
      "execution_count": null,
      "metadata": {
        "colab": {
          "base_uri": "https://localhost:8080/",
          "height": 499
        },
        "id": "OEhKEF8hFB5o",
        "outputId": "3cf60d0a-e5a7-489f-b42b-89efbe15b30d"
      },
      "outputs": [
        {
          "data": {
            "image/png": "[encoded data removed]",
            "text/plain": [
              "<Figure size 1000x600 with 1 Axes>"
            ]
          },
          "metadata": {},
          "output_type": "display_data"
        }
      ],
      "source": [
        "plt.figure(figsize=(10, 6))\n",
        "sns.lineplot(data=top_cities_data, x='date_of_event', y='fatalities_count', hue='event_location')\n",
        "plt.title('Fatalities per Day in Top Cities')\n",
        "plt.xlabel('Date')\n",
        "plt.ylabel('Fatalities Count')\n",
        "plt.xticks(rotation=45)\n",
        "plt.legend(bbox_to_anchor=(1.05, 1), loc='upper left')\n",
        "plt.tight_layout()\n",
        "plt.show()\n"
      ]
    },
    {
      "cell_type": "markdown",
      "metadata": {
        "id": "MqCa5Z7A1DzU"
      },
      "source": [
        "### Geographic Map of Fatalities"
      ]
    },
    {
      "cell_type": "code",
      "execution_count": null,
      "metadata": {
        "id": "Hu4EdWMygH5G"
      },
      "outputs": [],
      "source": [
        "# Redefining the approximate coordinates for major districts\n",
        "district_coords = {\n",
        "    'Gaza': [31.5, 34.466667],\n",
        "    'Hebron': [31.532569, 35.095388],\n",
        "    'Jenin': [32.457336, 35.286865],\n",
        "    'Nablus': [32.221481, 35.254417],\n",
        "    'Ramallah and al-Bira': [31.902922, 35.206209],\n",
        "    'Bethlehem': [31.705791, 35.200657],\n",
        "    'Tulkarm': [32.308628, 35.028537],\n",
        "    'Jericho': [31.857163, 35.444362],\n",
        "    'Rafah': [31.296866, 34.245536],\n",
        "    'Khan Yunis': [31.346201, 34.306286],\n",
        "    'Deir al-Balah': [31.4171, 34.3509],\n",
        "    'East Jerusalem' : [31.7833, 35.2167],\n",
        "    'Gush Katif' : [31.35481, 34.2746],\n",
        "    'Israel' : [31.4117257, 35.0818155],\n",
        "    'Qalqiliya' : [32.184832594, 35.059499762],\n",
        "    'Salfit' : [32.08509300, 35.18083400],\n",
        "    'Tubas' : [32.9662, 35.5920],\n",
        "    'al-Quds' : [31.7683, 35.2137],\n",
        "    'North Gaza' : [31.5417, 34.5196],\n",
        "    'Gaza Strip' : [31.3547, 34.3088]\n",
        "}"
      ]
    },
    {
      "cell_type": "code",
      "execution_count": null,
      "metadata": {
        "id": "RQYBvV8ngYmJ"
      },
      "outputs": [],
      "source": [
        "# Function to determine the color of the circle based on the number of fatalities\n",
        "def get_color(fatalities):\n",
        "    if fatalities > 1000:\n",
        "        return 'darkred'\n",
        "    elif fatalities > 500:\n",
        "        return 'red'\n",
        "    elif fatalities > 250:\n",
        "        return 'orangered'\n",
        "    elif fatalities > 100:\n",
        "        return 'orange'\n",
        "    elif fatalities > 50:\n",
        "        return 'gold'\n",
        "    elif fatalities > 20:\n",
        "        return 'yellow'\n",
        "    else:\n",
        "        return 'green'"
      ]
    },
    {
      "cell_type": "code",
      "execution_count": null,
      "metadata": {
        "colab": {
          "base_uri": "https://localhost:8080/",
          "height": 987
        },
        "id": "PzKr8oT0UR8D",
        "outputId": "15f8dfdb-82fc-4c1e-eb4a-d1eaf7f09523"
      },
      "outputs": [
        {
          "ename": "NameError",
          "evalue": "name 'folium' is not defined",
          "output_type": "error",
          "traceback": [
            "\u001b[1;31m---------------------------------------------------------------------------\u001b[0m",
            "\u001b[1;31mNameError\u001b[0m                                 Traceback (most recent call last)",
            "\u001b[1;32me:\\Raymond\\Programming\\DATA101-REPO\\final_proj\\[DATA100]_Final_Project.ipynb Cell 129\u001b[0m line \u001b[0;36m2\n\u001b[0;32m     <a href='vscode-notebook-cell:/e%3A/Raymond/Programming/DATA101-REPO/final_proj/%5BDATA100%5D_Final_Project.ipynb#Y242sZmlsZQ%3D%3D?line=16'>17</a>\u001b[0m         \u001b[39mreturn\u001b[39;00m \u001b[39m'\u001b[39m\u001b[39mgreen\u001b[39m\u001b[39m'\u001b[39m\n\u001b[0;32m     <a href='vscode-notebook-cell:/e%3A/Raymond/Programming/DATA101-REPO/final_proj/%5BDATA100%5D_Final_Project.ipynb#Y242sZmlsZQ%3D%3D?line=18'>19</a>\u001b[0m \u001b[39m# Create a base map centered around the region\u001b[39;00m\n\u001b[1;32m---> <a href='vscode-notebook-cell:/e%3A/Raymond/Programming/DATA101-REPO/final_proj/%5BDATA100%5D_Final_Project.ipynb#Y242sZmlsZQ%3D%3D?line=19'>20</a>\u001b[0m m \u001b[39m=\u001b[39m folium\u001b[39m.\u001b[39mMap(location\u001b[39m=\u001b[39m[\u001b[39m31.5\u001b[39m, \u001b[39m34.75\u001b[39m], zoom_start\u001b[39m=\u001b[39m\u001b[39m8\u001b[39m, tiles\u001b[39m=\u001b[39m\u001b[39m'\u001b[39m\u001b[39mOpenStreetMap\u001b[39m\u001b[39m'\u001b[39m)\n\u001b[0;32m     <a href='vscode-notebook-cell:/e%3A/Raymond/Programming/DATA101-REPO/final_proj/%5BDATA100%5D_Final_Project.ipynb#Y242sZmlsZQ%3D%3D?line=21'>22</a>\u001b[0m \u001b[39m# Add markers and circles for districts\u001b[39;00m\n\u001b[0;32m     <a href='vscode-notebook-cell:/e%3A/Raymond/Programming/DATA101-REPO/final_proj/%5BDATA100%5D_Final_Project.ipynb#Y242sZmlsZQ%3D%3D?line=22'>23</a>\u001b[0m \u001b[39mfor\u001b[39;00m district, coords \u001b[39min\u001b[39;00m district_coords\u001b[39m.\u001b[39mitems():\n",
            "\u001b[1;31mNameError\u001b[0m: name 'folium' is not defined"
          ]
        }
      ],
      "source": [
        "district_fatalities = war_fatalities_df.groupby('event_location_district').size()\n",
        "\n",
        "def get_color(fatalities):\n",
        "    if fatalities > 1000:\n",
        "        return 'darkred'\n",
        "    elif fatalities > 500:\n",
        "        return 'red'\n",
        "    elif fatalities > 250:\n",
        "        return 'orangered'\n",
        "    elif fatalities > 100:\n",
        "        return 'orange'\n",
        "    elif fatalities > 50:\n",
        "        return 'gold'\n",
        "    elif fatalities > 20:\n",
        "        return 'yellow'\n",
        "    else:\n",
        "        return 'green'\n",
        "\n",
        "# Create a base map centered around the region\n",
        "m = folium.Map(location=[31.5, 34.75], zoom_start=8, tiles='OpenStreetMap')\n",
        "\n",
        "# Add markers and circles for districts\n",
        "for district, coords in district_coords.items():\n",
        "    fatalities = district_fatalities.get(district, 0)\n",
        "    folium.Marker(\n",
        "        location=coords,\n",
        "        tooltip=f'{district}: {fatalities} fatalities',\n",
        "        icon=None\n",
        "    ).add_to(m)\n",
        "    folium.Circle(\n",
        "        location=coords,\n",
        "        radius=np.sqrt(fatalities) * 500,\n",
        "        color=get_color(fatalities),\n",
        "        fill=True,\n",
        "        fill_color=get_color(fatalities),\n",
        "        fill_opacity=0.5,\n",
        "    ).add_to(m)\n",
        "\n",
        "\n",
        "folium.LayerControl().add_to(m)\n",
        "\n",
        "m"
      ]
    },
    {
      "cell_type": "markdown",
      "metadata": {
        "id": "sk9N6gg116xp"
      },
      "source": [
        "### Geographic Map of Fatalities (Palestinians)"
      ]
    },
    {
      "cell_type": "code",
      "execution_count": null,
      "metadata": {
        "id": "1nGkepjK1XzR"
      },
      "outputs": [],
      "source": [
        "filtered_df = war_fatalities_df[war_fatalities_df['citizenship'] == 'Palestinian']\n",
        "district_fatalities = filtered_df.groupby('event_location_district').size()\n",
        "\n",
        "\n",
        "# Create a base map centered around the region\n",
        "m = folium.Map(location=[31.5, 34.75], zoom_start=8, tiles='OpenStreetMap')\n",
        "\n",
        "# Add markers and circles for districts\n",
        "for district, coords in district_coords.items():\n",
        "    fatalities = district_fatalities.get(district, 0)\n",
        "    folium.Marker(\n",
        "        location=coords,\n",
        "        tooltip=f'{district}: {fatalities} fatalities',\n",
        "        icon=None\n",
        "    ).add_to(m)\n",
        "    folium.Circle(\n",
        "        location=coords,\n",
        "        radius=np.sqrt(fatalities) * 500,  # scale radius for better visualization\n",
        "        color=get_color(fatalities),\n",
        "        fill=True,\n",
        "        fill_color=get_color(fatalities),\n",
        "        fill_opacity=0.5,\n",
        "    ).add_to(m)\n",
        "\n",
        "# Add layer control\n",
        "folium.LayerControl().add_to(m)\n",
        "\n",
        "m"
      ]
    },
    {
      "cell_type": "markdown",
      "metadata": {
        "id": "VqeOWfVq2Ehf"
      },
      "source": [
        "### Geographic Map of Fatalities (Israelis)"
      ]
    },
    {
      "cell_type": "code",
      "execution_count": null,
      "metadata": {
        "id": "FCIiP_sy2Ehl"
      },
      "outputs": [],
      "source": [
        "\n",
        "filtered_df = war_fatalities_df[war_fatalities_df['citizenship'] == 'Israeli']\n",
        "district_fatalities = filtered_df.groupby('event_location_district').size()\n",
        "print(district_fatalities)\n",
        "\n",
        "\n",
        "# Create a base map centered around the region\n",
        "m = folium.Map(location=[31.5, 34.75], zoom_start=8, tiles='OpenStreetMap')\n",
        "\n",
        "# Add markers and circles for districts\n",
        "for district, coords in district_coords.items():\n",
        "    fatalities = district_fatalities.get(district, 0)\n",
        "    folium.Marker(\n",
        "        location=coords,\n",
        "        tooltip=f'{district}: {fatalities} fatalities',\n",
        "        icon=None\n",
        "    ).add_to(m)\n",
        "    folium.Circle(\n",
        "        location=coords,\n",
        "        radius=np.sqrt(fatalities) * 500,  # scale radius for better visualization\n",
        "        color=get_color(fatalities),\n",
        "        fill=True,\n",
        "        fill_color=get_color(fatalities),\n",
        "        fill_opacity=0.5,\n",
        "    ).add_to(m)\n",
        "\n",
        "# Add layer control\n",
        "folium.LayerControl().add_to(m)\n",
        "\n",
        "m"
      ]
    },
    {
      "cell_type": "markdown",
      "metadata": {
        "id": "PkmqHLLFQfw2"
      },
      "source": [
        "1. Fatalities Count in Region  \n",
        "\n",
        "    The Gaza Strip and the West Bank which are areas within Palestine’s region significantly record more deaths than Israel. While the West Bank only records approximately one-third of the deaths recorded in the Gaza Strip, this is still significantly higher compared to Israel’s recorded deaths which is approximately one-half of the deaths recorded in the West Bank.\n",
        "\n",
        "2. Fatality Count per City\n",
        "\n",
        "    The graph presents the fatality count per city from October 2000 until September 2023. In the top 10 cities that recorded the most deaths, the only city located in Israel is Jerusalem at the 8th place. The number of recorded deaths in the Gaza Strip is over one-half of the combined recorded deaths of the remaining top cities.\n",
        "\n",
        "3. Long-Term Trend Analysis\n",
        "\n",
        "    The line graph presented the recorded fatalities of the cities with the highest recorded deaths in the last two decades. Throughout the time period, Gaza City has frequently recorded the most fatalities. From 2000 to 2004, Israel’s only city in the top 10, Jerusalem, recorded more deaths than Gaza City, then tallied significantly lower numbers in the following years to the point of being indistinguishable in the line graph. The following Palestinian Cities have notably recorded more deaths than Gaza City on various timeframes: (1) Jabalya Refugee Camp recorded more deaths sometime after 2004 and between 2018 to 2019, (2) Jabalya recorded more deaths in 2008, and (3) Rafah recorded more deaths between 2014 to 2015.\n",
        "\n",
        "4. Geospatial Maps Analysis\n",
        "\n",
        "    The first map shows the overall location of recorded Israeli and Palestinian deaths in the last two decades. The second map shows only Palestinian deaths while the third map shows only Israeli deaths. The fatalities of both parties are generally pinned on similar locations, indicating that both sides suffer casualties irrespective of the area embroiled in conflict despite the perceived upperhand one side may have when positioned in their own territory."
      ]
    },
    {
      "cell_type": "markdown",
      "metadata": {
        "id": "NuS76QiLaKk9"
      },
      "source": [
        "## Trend Analysis: Fatalities of Israelis and Palestines from 2002 to Present"
      ]
    },
    {
      "cell_type": "markdown",
      "metadata": {
        "id": "cdsNOtZOHtXM"
      },
      "source": [
        "### Exploring Israeli and Palestinian Fatalities per Day"
      ]
    },
    {
      "cell_type": "markdown",
      "metadata": {
        "id": "_3TmgP7sPkRe"
      },
      "source": [
        "The first thing we want to know is how much have the two nationalities have suffered ever since the year 2000. We look into fatalities occured by each citizenship per day to see if there are any trends present"
      ]
    },
    {
      "cell_type": "code",
      "execution_count": null,
      "metadata": {
        "id": "gGJ6AbUTI62I"
      },
      "outputs": [],
      "source": [
        "fatalities_by_citizenship = war_fatalities_df.groupby(['citizenship', 'date_of_event'])['date_of_death'].count().reset_index().sort_values(by='date_of_death', ascending=False)\n",
        "fatalities_by_citizenship"
      ]
    },
    {
      "cell_type": "markdown",
      "metadata": {
        "id": "I2LrKHxoZjaU"
      },
      "source": [
        "To understand the data better, it was plotted in a line graph"
      ]
    },
    {
      "cell_type": "code",
      "execution_count": null,
      "metadata": {
        "id": "PeiCCfksJLcG"
      },
      "outputs": [],
      "source": [
        "plt.figure(figsize=(10, 6))\n",
        "sns.lineplot(data=fatalities_by_citizenship, x='date_of_event', y='date_of_death', hue='citizenship')\n",
        "plt.title('Fatalities per Day per Citizenship')\n",
        "plt.xlabel('Date')\n",
        "plt.ylabel('Fatalities Count')\n",
        "plt.xticks(rotation=45)\n",
        "plt.legend(bbox_to_anchor=(1.05, 1), loc='upper left')\n",
        "plt.tight_layout()\n",
        "plt.show()"
      ]
    },
    {
      "cell_type": "markdown",
      "metadata": {
        "id": "ua08gmgrJyqr"
      },
      "source": [
        "There are some points of interest in the graph. **From 2000-2004 there seem to be an equal amount of casualities from Israelis and Palestinians** and **Starting from 2008 onwards there are certain dates where the fatalities of Palestinians dramatically increase**. **This trend in the data suggest the existence of an event that triggered a sudden rise in fatalities.**"
      ]
    },
    {
      "cell_type": "markdown",
      "metadata": {
        "id": "djl9MqEcZBbu"
      },
      "source": [
        "To provide more context to the spikes in fatalities, the researchers conducted an Event Analysis and checked if any specific event occured within these spikes"
      ]
    },
    {
      "cell_type": "markdown",
      "metadata": {
        "id": "P5H6Tiq0J0mT"
      },
      "source": [
        "###Event Analysis of the top 5 dates with the highest fatalities"
      ]
    },
    {
      "cell_type": "markdown",
      "metadata": {
        "id": "h9zJYu1OJ_ZA"
      },
      "source": [
        "`2008, December 27`, `2009, January 4`, `2009, January 6` The Israeli Government commenced 'Operation Cast Lead' on December 27, 2008 which started with aerial bombardment of the area followed by ground assault a few days after on January 3. The top 3 records of the days with the highest fatalities of Palestinians fall within this event (E Bisharat, 2009) <br>\n",
        "`2014-08-01` saw the end of a 72-hr truce when Israeli forces encountered Hamas troops while trying to close underground tunnels. Hadar Goldin, an Israeli soldier, was abducted in the process. This series of events made Israel expand presssure into Gaza. (Raghavan et al., 2023)\n",
        "<br>\n",
        "`2014-07-29` Multiple bombings were conducted by Israel including the only Palestinian power plant along with other Israeli POIs (Sherwood, 2017)\n",
        "\n",
        "\n",
        "`2000-2004` lies within the period of the Second Intifada, an event which saw heightened violence of Palestinian people as they rebel against the Israelis (Adam, 2020)\n",
        "\n",
        "The data shows that large events such as commencing of military operations and the Second Intifada would drastically increase fatalities within the region mostly affecting Palestinians"
      ]
    },
    {
      "cell_type": "markdown",
      "metadata": {
        "id": "dv09Q62TcG2T"
      },
      "source": [
        "After determining key events which could have led the sudden increase in fatalities, the researchers would next want to know if we can predict the succeeding fatalities. The models the researchers used were Simple Exponential Smoothing and the Holt Winters model."
      ]
    },
    {
      "cell_type": "markdown",
      "metadata": {
        "id": "_irYtWjeM8QF"
      },
      "source": [
        "### Preparing the Dataset for use in Predictive models"
      ]
    },
    {
      "cell_type": "markdown",
      "metadata": {
        "id": "-GwDoNTGeyTj"
      },
      "source": [
        "Since this forecast involves fatalities in general, the researchers decided to aggregate the data by number of fatalities per month per year instead as using"
      ]
    },
    {
      "cell_type": "code",
      "execution_count": null,
      "metadata": {
        "id": "rSwX05yp08MJ"
      },
      "outputs": [],
      "source": [
        "# preparing the dataset to be used, we are forecasting fatalities in general so there is no need to group by citizenship\n",
        "ses_fatalities = war_fatalities_df.groupby(['year_of_event', 'month_of_event'])['date_of_death'].count().reset_index().sort_values(by=['year_of_event', 'month_of_event'], ascending=True)\n",
        "ses_fatalities['date'] = pd.to_datetime(ses_fatalities[['year_of_event', 'month_of_event']].astype(str).agg('-'.join, axis=1))\n",
        "\n",
        "\n",
        "# Set the new 'date' column as the datetime index\n",
        "ses_fatalities.set_index('date', inplace=True)\n",
        "ses_fatalities.drop(columns=['year_of_event', 'month_of_event'], inplace=True)\n",
        "ses_fatalities.index = pd.date_range(start=ses_fatalities.index.min(), periods=len(ses_fatalities), freq='M')\n",
        "ses_fatalities"
      ]
    },
    {
      "cell_type": "markdown",
      "metadata": {
        "id": "DjOpuKiKhkVP"
      },
      "source": [
        "### Using predictive models to forecast future fatalities within the Israel-Palestine territories"
      ]
    },
    {
      "cell_type": "code",
      "execution_count": null,
      "metadata": {
        "id": "QdRkPtf10Np0"
      },
      "outputs": [],
      "source": [
        "# importing predictive models\n",
        "from statsmodels.tsa.holtwinters import SimpleExpSmoothing\n",
        "from statsmodels.tsa.holtwinters import ExponentialSmoothing\n",
        "from sklearn.model_selection import train_test_split\n",
        "\n",
        "# splitting the dataset\n",
        "ses_train, ses_test = train_test_split(ses_fatalities, test_size=0.2, shuffle=False)\n",
        "\n",
        "# using the model to predict future fatalities\n",
        "ses_model = SimpleExpSmoothing(ses_train).fit(optimized=True)\n",
        "hw_model = ExponentialSmoothing(ses_train, trend='add',\n",
        "                                         seasonal='add',\n",
        "                                         seasonal_periods=12).fit(optimized=True)"
      ]
    },
    {
      "cell_type": "code",
      "execution_count": null,
      "metadata": {
        "id": "DxoE0l6b2qn5"
      },
      "outputs": [],
      "source": [
        "# preparing prediction dataset for plotting\n",
        "ses_pred = pd.DataFrame(ses_model.forecast(60))\n",
        "ses_pred.rename(columns={0: 'monthly_predicted_fatalities'}, inplace=True)\n",
        "hw_pred = pd.DataFrame(hw_model.predict(start=len(ses_train), end=len(ses_train)+59))\n",
        "hw_pred.rename(columns={0: 'monthly_predicted_fatalities'}, inplace=True)"
      ]
    },
    {
      "cell_type": "code",
      "execution_count": null,
      "metadata": {
        "id": "nrgWXmeq0O6N"
      },
      "outputs": [],
      "source": [
        "plt.figure(figsize=(15,8))\n",
        "plt.title('Forecast for total fatalities within Israel-Palestine Territories Using Simple Exponential Smoothing')\n",
        "\n",
        "sns.lineplot(data=ses_train, x=ses_train.index, y='date_of_death', color='blue', label='Training Data')\n",
        "sns.lineplot(data=ses_test, x=ses_test.index, y='date_of_death', color='black', label='Testing Data')\n",
        "\n",
        "# Models used for forecasting\n",
        "sns.lineplot(data=ses_pred, x=ses_pred.index, y='monthly_predicted_fatalities', color='orange', label='Simple Exponential Smoothing')\n",
        "sns.lineplot(data=hw_pred, x=hw_pred.index, y='monthly_predicted_fatalities', color='green', label='Holt Winters')\n",
        "\n",
        "plt.xlabel('Date Occured')\n",
        "plt.ylabel('Number of Fatalities')\n",
        "\n",
        "plt.legend(fontsize=15)\n",
        "plt.tight_layout()\n",
        "plt.show()"
      ]
    },
    {
      "cell_type": "markdown",
      "metadata": {
        "id": "LclX3lWSy7Bc"
      },
      "source": [
        "The figure above represents the forecast for total fatalities within the Israel-Palestine territories using Simple Exponential Smoothing (SES) and Holt Winters models, which offers insights into the historical trend and potential future occurrences of fatalities.\n",
        "\n",
        "1. Training and Testing Data Analysis\n",
        "\n",
        "    The blue line (training data) represents the actual recorded fatalities in the dataset. It spans 80% of the entire time series, ranging from 2000 to 2018. It displays a decreasing trend over time with periodical spikes in 2006, 2008, and 2013. This declining trend indicates a general decrease in fatalities over the analyzed period, possibly indicating varying levels of conflict intensity between the two nations across different years.\n",
        "    \n",
        "    On the other hand, the black line (testing data) is data subset reserved for testing the forecasting models. It spans 20% of the entire time series, ranging from 2018 to 2022 (present). In this case, it aligns with the decreasing trend observed in the training data, supporting the consistency of the downward trend.\n",
        "\n",
        "2. Simple Exponential Smoothing (SES) Model\n",
        "\n",
        "    The SES model, shown as the orange line in the figure, provides forecasting based on recent observations (training data). In this case, the smoothed forecasting trend line continues the observed pattern of decreasing fatalities, implying a continuation of the declining trend in conflict-related fatalities within the Israel-Palestine territories.\n",
        "\n",
        "3. Holt Winters Model\n",
        "\n",
        "    The Holt Winters model (represented as the green line in the figure) considers both trend and seasonalitiy in the data. In this case, the forecasted trend aligns with the SES model, indicating a continued decline in fatalities. To add, this model, incorporating seasonality, could be more robust in capturing cyclical patterns or fluctuations in fatalities within specific periods (as shown by the gradual spikes every other year), although the overall trend remains downwards.\n",
        "\n",
        "4. Long-Term Trend Analysis\n",
        "\n",
        "    The figure presented a 20-year period that showcases various spikes and declines in conflict-related fatalities, as evidenced by the fluctuations in the data. The years 2008 and 2013 have also been noted to have experienced higher levels of violence, marked by spikes in casualties. Aside from this, subsequent years show a general decreasing trend, which suggests a gradual reduction in conflict-related fatalities, albeit with occasional upticks in violence, notably from 2008-2009.\n",
        "\n",
        "5. Interpretation of Declining Trend\n",
        "\n",
        "    The declining trend in fatalities over time might have reflected various factors such as shifts in geopolitical dynamics, changes in conflict resolution strategies, alterations in security measures, or modifications in socio-political landscapes within the region. With this, improved security measures, diplomatic efforts, changes in leadership, and shifts in public sentiment could have potentially contributed to the decreasing fatality rates.\n",
        "\n",
        "6. Forecasting Interpretation for Israelis and Palestinians\n",
        "\n",
        "    The forecasts generated by the SES and Holt Winters models align in predicting a continued decrease in fatalities for both Israelis and Palestinians. This projection of declining fatalities suggest a potential continuation of the trend observed in recent years, indicating a decreasing intensity or frequency of fatal incidents within the conflict."
      ]
    },
    {
      "cell_type": "markdown",
      "metadata": {
        "id": "lAzLmT-XI9EM"
      },
      "source": [
        "# Summary of Findings and Recommendations"
      ]
    },
    {
      "cell_type": "markdown",
      "metadata": {
        "id": "NEEleCnzJIws"
      },
      "source": [
        "1. Casualties are most likely to die in their home country.\n",
        "2. Males die more than females.\n",
        "3. Killed Palestinians are in their mid-20s while killed Israelis are in their early 30s.\n",
        "4. Israelis and Palestinians typically killed the other on the enemy territory.\n",
        "5. Weapons used in Palestinian areas are a combination of explosive devices and projectiles, while those used in Israel are explosive devices.\n",
        "6. The weapon that took the most lives in Palestine is gunfire while explosions took the most lives in Israel.\n",
        "\n",
        "\n",
        "The conflict between Israel and Palestine is a complex matter that requires careful consideration from both parties. While governments should continue striving to seek an avenue for a peaceful resolution so that civilians will no longer suffer, it is understandable that this may be unlikely to happen in the near future. Thus the group recommends for areas that record the highest deaths like the Gaza Strip and Israel to heighten their defences, educate the public on rescue operation methods, evacuation plans, and basic first-aid. Their respective governments should always anticipate conflict by improving their healthcare systems and inventing better generators in the event that their electricity is cut off. Finally, everyone should always stock up on protective gears, ideally ones that are effective against the weapons commonly used in their areas and basic supplies like food and water."
      ]
    },
    {
      "cell_type": "markdown",
      "metadata": {
        "id": "U4vlLXoZJE7H"
      },
      "source": [
        "# References"
      ]
    },
    {
      "cell_type": "markdown",
      "metadata": {
        "id": "QT5a4ePZJJ8C"
      },
      "source": [
        "Adam, A. (2020, September 28). Palestinian Intifada: How Israel orchestrated a bloody takeover. Al Jazeera. https://www.aljazeera.com/news/2020/9/28/palestinian-intifada-20-years-later-israeli-occupation-continues <br><br>\n",
        "E Bisharat, G. (2009). Israel’s invasion of gaza in international law. Denver Journal of Law and Policy, 38, 41. https://digitalcommons.du.edu/cgi/viewcontent.cgi?article=1199&context=djilp\n",
        "<br><br>\n",
        " Raghavan, S., Booth, W., & Witte, G. (2023, January 23). How a 72-hour truce in Gaza fell apart in less than 2 hours. Washington Post. https://www.washingtonpost.com/world/israel-hamas-agree-to-72-hour-humanitarian-cease-fire/2014/08/01/059f1ff8-194e-11e4-9e3b-7f2f110c6265_story.html\n",
        " <br><br>\n",
        " Sherwood, H. (2017, November 30). Gaza’s only power plant destroyed in Israel’s most intense air strike yet. The Guardian. https://www.theguardian.com/world/2014/jul/29/gaza-power-plant-destroyed-israeli-airstrike-100-palestinians-dead"
      ]
    }
  ],
  "metadata": {
    "colab": {
      "provenance": []
    },
    "kernelspec": {
      "display_name": "Python 3",
      "name": "python3"
    },
    "language_info": {
      "codemirror_mode": {
        "name": "ipython",
        "version": 3
      },
      "file_extension": ".py",
      "mimetype": "text/x-python",
      "name": "python",
      "nbconvert_exporter": "python",
      "pygments_lexer": "ipython3",
      "version": "3.11.4"
    }
  },
  "nbformat": 4,
  "nbformat_minor": 0
}